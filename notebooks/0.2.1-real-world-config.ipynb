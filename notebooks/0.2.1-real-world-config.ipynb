{
 "cells": [
  {
   "cell_type": "code",
   "execution_count": 1,
   "metadata": {},
   "outputs": [],
   "source": [
    "import networkx as nx\n",
    "import pickle\n",
    "import numpy as np\n",
    "from pathlib import Path\n",
    "import sys\n",
    "sys.path.append(\"../src\")\n",
    "from data_component import DataComponent\n",
    "\n"
   ]
  },
  {
   "cell_type": "code",
   "execution_count": 3,
   "metadata": {},
   "outputs": [],
   "source": [
    "# ~2 min\n",
    "data = DataComponent(use_real_data=True)\n",
    "data.pre_compute_neighboring()\n",
    "betweenness_centrality = nx.betweenness_centrality(data.get_graph())"
   ]
  },
  {
   "cell_type": "code",
   "execution_count": 41,
   "metadata": {},
   "outputs": [
    {
     "name": "stdout",
     "output_type": "stream",
     "text": [
      "g.number_of_nodes(): 2_894, g.number_of_edges(): 161_888\n",
      "len(node2stance): 2_894\n",
      "len(username2index): 2_894\n",
      "len(propagations): 41_001\n",
      "len(polarities): 41_001\n",
      "len(tweets_texts): 41_001\n",
      "len(tweets_ids): 41_001\n"
     ]
    }
   ],
   "source": [
    "base_folder = Path(\"/mnt/nas/cinus/SocialAIGym/data/raw/Referendum\")\n",
    "\n",
    "g = nx.read_edgelist(base_folder / Path(\"ita_referendum_04_edgelist.txt\"), nodetype=int, create_using=nx.DiGraph)\n",
    "print(f\"g.number_of_nodes(): {g.number_of_nodes():_}, g.number_of_edges(): {g.number_of_edges():_}\")\n",
    "\n",
    "\n",
    "with open(base_folder / Path(\"ita_referendum_04_node2stance.pkl\"), \"rb\") as f_handle:\n",
    "    node2stance = pickle.load(f_handle)\n",
    "    print(f\"len(node2stance): {len(node2stance):_}\")\n",
    "\n",
    "with open(base_folder / Path(\"ita_referendum_04_username2index.pkl\"), \"rb\") as f_handle:\n",
    "    username2index = pickle.load(f_handle)\n",
    "    print(f\"len(username2index): {len(username2index):_}\")\n",
    "\n",
    "with open(base_folder / Path(\"ita_referendum_04_propagations_and_polarities.pkl\"), \"rb\") as f_handle:\n",
    "    propagations, polarities = pickle.load(f_handle)\n",
    "    print(f\"len(propagations): {len(propagations):_}\")\n",
    "    print(f\"len(polarities): {len(polarities):_}\")\n",
    "\n",
    "tweets_texts = pd.read_pickle(base_folder / Path(\"ita_referendum_04_tweets_texts.pkl\"))\n",
    "print(f\"len(tweets_texts): {len(tweets_texts):_}\")\n",
    "\n",
    "with open(base_folder / Path(\"ita_referendum_04_tweets_ids.pkl\"), \"rb\") as f_handle:\n",
    "    tweets_ids = pickle.load(f_handle)\n",
    "    print(f\"len(tweets_ids): {len(tweets_ids):_}\")\n",
    "\n"
   ]
  },
  {
   "cell_type": "code",
   "execution_count": 51,
   "metadata": {},
   "outputs": [],
   "source": []
  }
 ],
 "metadata": {
  "kernelspec": {
   "display_name": "sgae",
   "language": "python",
   "name": "python3"
  },
  "language_info": {
   "codemirror_mode": {
    "name": "ipython",
    "version": 3
   },
   "file_extension": ".py",
   "mimetype": "text/x-python",
   "name": "python",
   "nbconvert_exporter": "python",
   "pygments_lexer": "ipython3",
   "version": "3.10.13"
  }
 },
 "nbformat": 4,
 "nbformat_minor": 2
}
