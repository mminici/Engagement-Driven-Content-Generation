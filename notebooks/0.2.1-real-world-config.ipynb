{
 "cells": [
  {
   "cell_type": "code",
   "execution_count": 105,
   "metadata": {},
   "outputs": [],
   "source": [
    "import networkx as nx\n",
    "import pickle\n",
    "import numpy as np\n",
    "from pathlib import Path\n",
    "import pandas as pd\n",
    "import os\n",
    "\n",
    "import sys\n",
    "sys.path.append(\"../src\")\n",
    "from data_component import DataComponent\n",
    "from graph_utils import *"
   ]
  },
  {
   "cell_type": "code",
   "execution_count": 106,
   "metadata": {},
   "outputs": [],
   "source": [
    "# ~2 min\n",
    "data = DataComponent(real_data=\"Brexit\")\n",
    "data.pre_compute_neighboring()"
   ]
  },
  {
   "cell_type": "code",
   "execution_count": 107,
   "metadata": {},
   "outputs": [],
   "source": [
    "CREATE = True\n",
    "\n",
    "data_folder = \"../data/processed/\"\n",
    "betweenness_path = os.path.join(data_folder, \"brexit_betweenness_centrality.pkl\")\n",
    "\n",
    "if not os.path.exists(betweenness_path) or CREATE:\n",
    "    betweenness_centrality = nx.betweenness_centrality(data.get_graph())\n",
    "    with open(betweenness_path, \"wb\") as f:\n",
    "        pickle.dump(betweenness_centrality, f)\n",
    "else:\n",
    "    with open(betweenness_path, \"rb\") as f:\n",
    "        betweenness_centrality = pickle.load(f)"
   ]
  },
  {
   "cell_type": "code",
   "execution_count": 66,
   "metadata": {},
   "outputs": [
    {
     "name": "stdout",
     "output_type": "stream",
     "text": [
      "Opinions stats \n",
      "mean: 0.5483296179151699\n",
      "std: 0.40122325342413656\n",
      "min: 0.0\n",
      "max: 1.0\n"
     ]
    },
    {
     "data": {
      "text/plain": [
       "Text(0, 0.5, 'occurrences')"
      ]
     },
     "execution_count": 66,
     "metadata": {},
     "output_type": "execute_result"
    },
    {
     "data": {
      "image/png": "[encoded data removed]",
      "text/plain": [
       "<Figure size 640x480 with 1 Axes>"
      ]
     },
     "metadata": {},
     "output_type": "display_data"
    }
   ],
   "source": [
    "opinions = data.get_opinions()\n",
    "print(f'Opinions stats \\nmean: {opinions.mean()}\\nstd: {opinions.std()}\\nmin: {opinions.min()}\\nmax: {opinions.max()}')\n",
    "\n",
    "import matplotlib.pyplot as plt\n",
    "_ = plt.hist(opinions, bins=25, range=[0,1])\n",
    "plt.xlabel('opinion value')\n",
    "plt.ylabel('occurrences')"
   ]
  },
  {
   "cell_type": "code",
   "execution_count": 67,
   "metadata": {},
   "outputs": [],
   "source": [
    "G_brexit = data.get_graph()"
   ]
  },
  {
   "cell_type": "code",
   "execution_count": 73,
   "metadata": {},
   "outputs": [],
   "source": [
    "nx.write_gexf(G_brexit, os.path.join(data_folder, \"brexit_graph.gexf\"))"
   ]
  },
  {
   "cell_type": "code",
   "execution_count": 68,
   "metadata": {},
   "outputs": [
    {
     "data": {
      "text/plain": [
       "7589"
      ]
     },
     "execution_count": 68,
     "metadata": {},
     "output_type": "execute_result"
    }
   ],
   "source": [
    "G_brexit.number_of_nodes()"
   ]
  },
  {
   "cell_type": "code",
   "execution_count": 77,
   "metadata": {},
   "outputs": [
    {
     "data": {
      "text/plain": [
       "532459"
      ]
     },
     "execution_count": 77,
     "metadata": {},
     "output_type": "execute_result"
    }
   ],
   "source": [
    "G_brexit.number_of_edges()"
   ]
  },
  {
   "cell_type": "code",
   "execution_count": 84,
   "metadata": {},
   "outputs": [
    {
     "data": {
      "text/plain": [
       "array([0.5  , 0.   , 0.   , ..., 0.   , 0.625, 1.   ])"
      ]
     },
     "execution_count": 84,
     "metadata": {},
     "output_type": "execute_result"
    }
   ],
   "source": [
    "opinions"
   ]
  },
  {
   "cell_type": "code",
   "execution_count": 97,
   "metadata": {},
   "outputs": [],
   "source": [
    "edges_to_remove = []\n",
    "gaps = []\n",
    "edges = G_brexit.edges()\n",
    "for edge in edges:\n",
    "    if i == j:\n",
    "        continue\n",
    "    gaps.append(abs(opinions[i]-opinions[j]))\n",
    "    i, j = edge\n",
    "    if (not (opinions[i] >= 0.5 and opinions[j] >= 0.5)) and (not (opinions[i] < 0.5 and opinions[j] < 0.5)):\n",
    "        edges_to_remove.append(edge)"
   ]
  },
  {
   "cell_type": "code",
   "execution_count": 100,
   "metadata": {},
   "outputs": [
    {
     "data": {
      "text/plain": [
       "0.28203110474233695"
      ]
     },
     "execution_count": 100,
     "metadata": {},
     "output_type": "execute_result"
    }
   ],
   "source": [
    "len(edges_to_remove)/len(edges)"
   ]
  },
  {
   "cell_type": "code",
   "execution_count": 101,
   "metadata": {},
   "outputs": [],
   "source": [
    "G_brexit.remove_edges_from(edges_to_remove)"
   ]
  },
  {
   "cell_type": "code",
   "execution_count": 102,
   "metadata": {},
   "outputs": [
    {
     "data": {
      "text/plain": [
       "7589"
      ]
     },
     "execution_count": 102,
     "metadata": {},
     "output_type": "execute_result"
    }
   ],
   "source": [
    "G_brexit.number_of_nodes()"
   ]
  },
  {
   "cell_type": "code",
   "execution_count": 103,
   "metadata": {},
   "outputs": [
    {
     "data": {
      "text/plain": [
       "382289"
      ]
     },
     "execution_count": 103,
     "metadata": {},
     "output_type": "execute_result"
    }
   ],
   "source": [
    "G_brexit.number_of_edges()"
   ]
  },
  {
   "cell_type": "code",
   "execution_count": 104,
   "metadata": {},
   "outputs": [],
   "source": [
    "nx.write_gexf(G_brexit, os.path.join(data_folder, \"brexit_graph_after_removal.gexf\"))"
   ]
  },
  {
   "cell_type": "code",
   "execution_count": 70,
   "metadata": {},
   "outputs": [],
   "source": [
    "LLM_pos_node_id_dict = {}"
   ]
  },
  {
   "cell_type": "code",
   "execution_count": 71,
   "metadata": {},
   "outputs": [],
   "source": [
    "LLM_positions = [\"echo-low\", \"echo-high\", \"comm-largest\", \"comm-smallest\", \"central\"]\n",
    "\n",
    "for LLM_pos in LLM_positions:\n",
    "\n",
    "    if LLM_pos == \"echo-low\":\n",
    "        llm_node_id = LLM_in_echochamber(data, \"low\")\n",
    "    elif LLM_pos == \"echo-high\":\n",
    "        llm_node_id = LLM_in_echochamber(data, \"high\")\n",
    "    elif LLM_pos == \"comm-largest\":\n",
    "        llm_node_id = LLM_in_comm(data, \"largest\")\n",
    "    elif LLM_pos == \"comm-smallest\":\n",
    "        llm_node_id = LLM_in_comm(data, \"smallest\")\n",
    "    elif LLM_pos == \"central\":\n",
    "        llm_node_id = LLM_central(data, betweenness_centrality=betweenness_centrality)\n",
    "\n",
    "    LLM_pos_node_id_dict[LLM_pos] = llm_node_id"
   ]
  },
  {
   "cell_type": "code",
   "execution_count": 72,
   "metadata": {},
   "outputs": [
    {
     "data": {
      "text/plain": [
       "{'echo-low': 1,\n",
       " 'echo-high': 0,\n",
       " 'comm-largest': 1,\n",
       " 'comm-smallest': 0,\n",
       " 'central': 4426}"
      ]
     },
     "execution_count": 72,
     "metadata": {},
     "output_type": "execute_result"
    }
   ],
   "source": [
    "LLM_pos_node_id_dict"
   ]
  },
  {
   "cell_type": "code",
   "execution_count": 7,
   "metadata": {},
   "outputs": [
    {
     "name": "stdout",
     "output_type": "stream",
     "text": [
      "g.number_of_nodes(): 2_894, g.number_of_edges(): 161_888\n",
      "len(node2stance): 2_894\n",
      "len(username2index): 2_894\n",
      "len(propagations): 41_001\n",
      "len(polarities): 41_001\n",
      "len(tweets_texts): 41_001\n",
      "len(tweets_ids): 41_001\n"
     ]
    }
   ],
   "source": [
    "base_folder = Path(\"/mnt/nas/cinus/SocialAIGym/data/raw/Referendum\")\n",
    "\n",
    "g = nx.read_edgelist(base_folder / Path(\"ita_referendum_04_edgelist.txt\"), nodetype=int, create_using=nx.DiGraph)\n",
    "print(f\"g.number_of_nodes(): {g.number_of_nodes():_}, g.number_of_edges(): {g.number_of_edges():_}\")\n",
    "\n",
    "\n",
    "with open(base_folder / Path(\"ita_referendum_04_node2stance.pkl\"), \"rb\") as f_handle:\n",
    "    node2stance = pickle.load(f_handle)\n",
    "    print(f\"len(node2stance): {len(node2stance):_}\")\n",
    "\n",
    "with open(base_folder / Path(\"ita_referendum_04_username2index.pkl\"), \"rb\") as f_handle:\n",
    "    username2index = pickle.load(f_handle)\n",
    "    print(f\"len(username2index): {len(username2index):_}\")\n",
    "\n",
    "with open(base_folder / Path(\"ita_referendum_04_propagations_and_polarities.pkl\"), \"rb\") as f_handle:\n",
    "    propagations, polarities = pickle.load(f_handle)\n",
    "    print(f\"len(propagations): {len(propagations):_}\")\n",
    "    print(f\"len(polarities): {len(polarities):_}\")\n",
    "\n",
    "tweets_texts = pd.read_pickle(base_folder / Path(\"ita_referendum_04_tweets_texts.pkl\"))\n",
    "print(f\"len(tweets_texts): {len(tweets_texts):_}\")\n",
    "\n",
    "with open(base_folder / Path(\"ita_referendum_04_tweets_ids.pkl\"), \"rb\") as f_handle:\n",
    "    tweets_ids = pickle.load(f_handle)\n",
    "    print(f\"len(tweets_ids): {len(tweets_ids):_}\")\n",
    "\n"
   ]
  },
  {
   "cell_type": "code",
   "execution_count": 51,
   "metadata": {},
   "outputs": [],
   "source": []
  }
 ],
 "metadata": {
  "kernelspec": {
   "display_name": "Python 3 (ipykernel)",
   "language": "python",
   "name": "python3"
  },
  "language_info": {
   "codemirror_mode": {
    "name": "ipython",
    "version": 3
   },
   "file_extension": ".py",
   "mimetype": "text/x-python",
   "name": "python",
   "nbconvert_exporter": "python",
   "pygments_lexer": "ipython3",
   "version": "3.10.12"
  }
 },
 "nbformat": 4,
 "nbformat_minor": 4
}
