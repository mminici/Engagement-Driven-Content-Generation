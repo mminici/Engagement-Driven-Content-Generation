{
 "cells": [
  {
   "cell_type": "code",
   "execution_count": 12,
   "outputs": [
    {
     "data": {
      "text/plain": "message value:   0%|          | 0/100000 [00:00<?, ?it/s]",
      "application/vnd.jupyter.widget-view+json": {
       "version_major": 2,
       "version_minor": 0,
       "model_id": "8981c56398b04aeea8a379d23cdbb87c"
      }
     },
     "metadata": {},
     "output_type": "display_data"
    },
    {
     "name": "stdout",
     "output_type": "stream",
     "text": [
      "MODULARITY: high; HOMOPHILY: high; NETWORK_OPINION: neutral; LLM_pos: echo-low\n",
      "Optimal reward:  47\n"
     ]
    },
    {
     "data": {
      "text/plain": "message value:   0%|          | 0/100000 [00:00<?, ?it/s]",
      "application/vnd.jupyter.widget-view+json": {
       "version_major": 2,
       "version_minor": 0,
       "model_id": "c84b2962edc74609af7d75a8627ee3ab"
      }
     },
     "metadata": {},
     "output_type": "display_data"
    },
    {
     "name": "stdout",
     "output_type": "stream",
     "text": [
      "MODULARITY: high; HOMOPHILY: high; NETWORK_OPINION: positive; LLM_pos: echo-low\n",
      "Optimal reward:  99\n"
     ]
    },
    {
     "data": {
      "text/plain": "message value:   0%|          | 0/100000 [00:00<?, ?it/s]",
      "application/vnd.jupyter.widget-view+json": {
       "version_major": 2,
       "version_minor": 0,
       "model_id": "9b47cd8513094ef2826616159d7aeda9"
      }
     },
     "metadata": {},
     "output_type": "display_data"
    },
    {
     "name": "stdout",
     "output_type": "stream",
     "text": [
      "MODULARITY: high; HOMOPHILY: high; NETWORK_OPINION: negative; LLM_pos: echo-low\n",
      "Optimal reward:  99\n"
     ]
    },
    {
     "data": {
      "text/plain": "message value:   0%|          | 0/100000 [00:00<?, ?it/s]",
      "application/vnd.jupyter.widget-view+json": {
       "version_major": 2,
       "version_minor": 0,
       "model_id": "d3f5dcdabc964b25ae3cec635ba1b15c"
      }
     },
     "metadata": {},
     "output_type": "display_data"
    },
    {
     "name": "stdout",
     "output_type": "stream",
     "text": [
      "MODULARITY: high; HOMOPHILY: low; NETWORK_OPINION: neutral; LLM_pos: echo-low\n",
      "Optimal reward:  31\n"
     ]
    },
    {
     "data": {
      "text/plain": "message value:   0%|          | 0/100000 [00:00<?, ?it/s]",
      "application/vnd.jupyter.widget-view+json": {
       "version_major": 2,
       "version_minor": 0,
       "model_id": "6d77d30d0cce404197d0cfb65aea59ca"
      }
     },
     "metadata": {},
     "output_type": "display_data"
    },
    {
     "name": "stdout",
     "output_type": "stream",
     "text": [
      "MODULARITY: high; HOMOPHILY: low; NETWORK_OPINION: positive; LLM_pos: echo-low\n",
      "Optimal reward:  99\n"
     ]
    },
    {
     "data": {
      "text/plain": "message value:   0%|          | 0/100000 [00:00<?, ?it/s]",
      "application/vnd.jupyter.widget-view+json": {
       "version_major": 2,
       "version_minor": 0,
       "model_id": "8adf75fbcb2f4090a85b0771cc4f8629"
      }
     },
     "metadata": {},
     "output_type": "display_data"
    },
    {
     "name": "stdout",
     "output_type": "stream",
     "text": [
      "MODULARITY: high; HOMOPHILY: low; NETWORK_OPINION: negative; LLM_pos: echo-low\n",
      "Optimal reward:  98\n"
     ]
    },
    {
     "data": {
      "text/plain": "message value:   0%|          | 0/100000 [00:00<?, ?it/s]",
      "application/vnd.jupyter.widget-view+json": {
       "version_major": 2,
       "version_minor": 0,
       "model_id": "b2e2f0771d0848438c6df65122e73e93"
      }
     },
     "metadata": {},
     "output_type": "display_data"
    },
    {
     "name": "stdout",
     "output_type": "stream",
     "text": [
      "MODULARITY: low; HOMOPHILY: high; NETWORK_OPINION: neutral; LLM_pos: echo-low\n",
      "Optimal reward:  69\n"
     ]
    },
    {
     "data": {
      "text/plain": "message value:   0%|          | 0/100000 [00:00<?, ?it/s]",
      "application/vnd.jupyter.widget-view+json": {
       "version_major": 2,
       "version_minor": 0,
       "model_id": "f8a140c001f84749b8571bd2e4774f7c"
      }
     },
     "metadata": {},
     "output_type": "display_data"
    },
    {
     "name": "stdout",
     "output_type": "stream",
     "text": [
      "MODULARITY: low; HOMOPHILY: high; NETWORK_OPINION: positive; LLM_pos: echo-low\n",
      "Optimal reward:  99\n"
     ]
    },
    {
     "data": {
      "text/plain": "message value:   0%|          | 0/100000 [00:00<?, ?it/s]",
      "application/vnd.jupyter.widget-view+json": {
       "version_major": 2,
       "version_minor": 0,
       "model_id": "88bc3e3806c446b6b11a42abc145f11f"
      }
     },
     "metadata": {},
     "output_type": "display_data"
    },
    {
     "name": "stdout",
     "output_type": "stream",
     "text": [
      "MODULARITY: low; HOMOPHILY: high; NETWORK_OPINION: negative; LLM_pos: echo-low\n",
      "Optimal reward:  97\n"
     ]
    },
    {
     "data": {
      "text/plain": "message value:   0%|          | 0/100000 [00:00<?, ?it/s]",
      "application/vnd.jupyter.widget-view+json": {
       "version_major": 2,
       "version_minor": 0,
       "model_id": "b613fa59e32346678a9986b739d023d5"
      }
     },
     "metadata": {},
     "output_type": "display_data"
    },
    {
     "name": "stdout",
     "output_type": "stream",
     "text": [
      "MODULARITY: low; HOMOPHILY: low; NETWORK_OPINION: neutral; LLM_pos: echo-low\n",
      "Optimal reward:  48\n"
     ]
    },
    {
     "data": {
      "text/plain": "message value:   0%|          | 0/100000 [00:00<?, ?it/s]",
      "application/vnd.jupyter.widget-view+json": {
       "version_major": 2,
       "version_minor": 0,
       "model_id": "eb38fe3fbce2487bab11e82eb3fee6c6"
      }
     },
     "metadata": {},
     "output_type": "display_data"
    },
    {
     "name": "stdout",
     "output_type": "stream",
     "text": [
      "MODULARITY: low; HOMOPHILY: low; NETWORK_OPINION: positive; LLM_pos: echo-low\n",
      "Optimal reward:  99\n"
     ]
    },
    {
     "data": {
      "text/plain": "message value:   0%|          | 0/100000 [00:00<?, ?it/s]",
      "application/vnd.jupyter.widget-view+json": {
       "version_major": 2,
       "version_minor": 0,
       "model_id": "f085306e4d8b451f8c71ca2dfdd40863"
      }
     },
     "metadata": {},
     "output_type": "display_data"
    },
    {
     "name": "stdout",
     "output_type": "stream",
     "text": [
      "MODULARITY: low; HOMOPHILY: low; NETWORK_OPINION: negative; LLM_pos: echo-low\n",
      "Optimal reward:  97\n"
     ]
    },
    {
     "data": {
      "text/plain": "message value:   0%|          | 0/100000 [00:00<?, ?it/s]",
      "application/vnd.jupyter.widget-view+json": {
       "version_major": 2,
       "version_minor": 0,
       "model_id": "2db21ff896454ca98b5b71d71cb2cdcf"
      }
     },
     "metadata": {},
     "output_type": "display_data"
    },
    {
     "name": "stdout",
     "output_type": "stream",
     "text": [
      "MODULARITY: high; HOMOPHILY: high; NETWORK_OPINION: neutral; LLM_pos: echo-high\n",
      "Optimal reward:  45\n"
     ]
    },
    {
     "data": {
      "text/plain": "message value:   0%|          | 0/100000 [00:00<?, ?it/s]",
      "application/vnd.jupyter.widget-view+json": {
       "version_major": 2,
       "version_minor": 0,
       "model_id": "3a63d8ba208f43308607ee404b26ef51"
      }
     },
     "metadata": {},
     "output_type": "display_data"
    },
    {
     "name": "stdout",
     "output_type": "stream",
     "text": [
      "MODULARITY: high; HOMOPHILY: high; NETWORK_OPINION: positive; LLM_pos: echo-high\n",
      "Optimal reward:  99\n"
     ]
    },
    {
     "data": {
      "text/plain": "message value:   0%|          | 0/100000 [00:00<?, ?it/s]",
      "application/vnd.jupyter.widget-view+json": {
       "version_major": 2,
       "version_minor": 0,
       "model_id": "756a729b232949948ce8bde146d737cc"
      }
     },
     "metadata": {},
     "output_type": "display_data"
    },
    {
     "name": "stdout",
     "output_type": "stream",
     "text": [
      "MODULARITY: high; HOMOPHILY: high; NETWORK_OPINION: negative; LLM_pos: echo-high\n",
      "Optimal reward:  99\n"
     ]
    },
    {
     "data": {
      "text/plain": "message value:   0%|          | 0/100000 [00:00<?, ?it/s]",
      "application/vnd.jupyter.widget-view+json": {
       "version_major": 2,
       "version_minor": 0,
       "model_id": "67d516d38fd841ad858ea8528e33f69b"
      }
     },
     "metadata": {},
     "output_type": "display_data"
    },
    {
     "name": "stdout",
     "output_type": "stream",
     "text": [
      "MODULARITY: high; HOMOPHILY: low; NETWORK_OPINION: neutral; LLM_pos: echo-high\n",
      "Optimal reward:  37\n"
     ]
    },
    {
     "data": {
      "text/plain": "message value:   0%|          | 0/100000 [00:00<?, ?it/s]",
      "application/vnd.jupyter.widget-view+json": {
       "version_major": 2,
       "version_minor": 0,
       "model_id": "2f483ea8bc1c4cbfbf47608c5c38efe3"
      }
     },
     "metadata": {},
     "output_type": "display_data"
    },
    {
     "name": "stdout",
     "output_type": "stream",
     "text": [
      "MODULARITY: high; HOMOPHILY: low; NETWORK_OPINION: positive; LLM_pos: echo-high\n",
      "Optimal reward:  99\n"
     ]
    },
    {
     "data": {
      "text/plain": "message value:   0%|          | 0/100000 [00:00<?, ?it/s]",
      "application/vnd.jupyter.widget-view+json": {
       "version_major": 2,
       "version_minor": 0,
       "model_id": "ca01761496d5459b8c538c5c78e287b8"
      }
     },
     "metadata": {},
     "output_type": "display_data"
    },
    {
     "name": "stdout",
     "output_type": "stream",
     "text": [
      "MODULARITY: high; HOMOPHILY: low; NETWORK_OPINION: negative; LLM_pos: echo-high\n",
      "Optimal reward:  98\n"
     ]
    },
    {
     "data": {
      "text/plain": "message value:   0%|          | 0/100000 [00:00<?, ?it/s]",
      "application/vnd.jupyter.widget-view+json": {
       "version_major": 2,
       "version_minor": 0,
       "model_id": "57481d8654fa4cd7b15302b2eb303383"
      }
     },
     "metadata": {},
     "output_type": "display_data"
    },
    {
     "name": "stdout",
     "output_type": "stream",
     "text": [
      "MODULARITY: low; HOMOPHILY: high; NETWORK_OPINION: neutral; LLM_pos: echo-high\n",
      "Optimal reward:  70\n"
     ]
    },
    {
     "data": {
      "text/plain": "message value:   0%|          | 0/100000 [00:00<?, ?it/s]",
      "application/vnd.jupyter.widget-view+json": {
       "version_major": 2,
       "version_minor": 0,
       "model_id": "290c232738544600881c0e0934525084"
      }
     },
     "metadata": {},
     "output_type": "display_data"
    },
    {
     "name": "stdout",
     "output_type": "stream",
     "text": [
      "MODULARITY: low; HOMOPHILY: high; NETWORK_OPINION: positive; LLM_pos: echo-high\n",
      "Optimal reward:  99\n"
     ]
    },
    {
     "data": {
      "text/plain": "message value:   0%|          | 0/100000 [00:00<?, ?it/s]",
      "application/vnd.jupyter.widget-view+json": {
       "version_major": 2,
       "version_minor": 0,
       "model_id": "6e47c7d2f3e541fd86a57d1b4862848a"
      }
     },
     "metadata": {},
     "output_type": "display_data"
    },
    {
     "name": "stdout",
     "output_type": "stream",
     "text": [
      "MODULARITY: low; HOMOPHILY: high; NETWORK_OPINION: negative; LLM_pos: echo-high\n",
      "Optimal reward:  97\n"
     ]
    },
    {
     "data": {
      "text/plain": "message value:   0%|          | 0/100000 [00:00<?, ?it/s]",
      "application/vnd.jupyter.widget-view+json": {
       "version_major": 2,
       "version_minor": 0,
       "model_id": "dbff85e54c60424885627e16b9edac6f"
      }
     },
     "metadata": {},
     "output_type": "display_data"
    },
    {
     "name": "stdout",
     "output_type": "stream",
     "text": [
      "MODULARITY: low; HOMOPHILY: low; NETWORK_OPINION: neutral; LLM_pos: echo-high\n",
      "Optimal reward:  48\n"
     ]
    },
    {
     "data": {
      "text/plain": "message value:   0%|          | 0/100000 [00:00<?, ?it/s]",
      "application/vnd.jupyter.widget-view+json": {
       "version_major": 2,
       "version_minor": 0,
       "model_id": "9f9bae9428254c79a4bcb5ecd5be2d2a"
      }
     },
     "metadata": {},
     "output_type": "display_data"
    },
    {
     "name": "stdout",
     "output_type": "stream",
     "text": [
      "MODULARITY: low; HOMOPHILY: low; NETWORK_OPINION: positive; LLM_pos: echo-high\n",
      "Optimal reward:  99\n"
     ]
    },
    {
     "data": {
      "text/plain": "message value:   0%|          | 0/100000 [00:00<?, ?it/s]",
      "application/vnd.jupyter.widget-view+json": {
       "version_major": 2,
       "version_minor": 0,
       "model_id": "13a29eb553194d29acb2835ce1bad8e0"
      }
     },
     "metadata": {},
     "output_type": "display_data"
    },
    {
     "name": "stdout",
     "output_type": "stream",
     "text": [
      "MODULARITY: low; HOMOPHILY: low; NETWORK_OPINION: negative; LLM_pos: echo-high\n",
      "Optimal reward:  97\n"
     ]
    },
    {
     "data": {
      "text/plain": "message value:   0%|          | 0/100000 [00:00<?, ?it/s]",
      "application/vnd.jupyter.widget-view+json": {
       "version_major": 2,
       "version_minor": 0,
       "model_id": "88196ce62c6d43409ef3105fff757d01"
      }
     },
     "metadata": {},
     "output_type": "display_data"
    },
    {
     "name": "stdout",
     "output_type": "stream",
     "text": [
      "MODULARITY: high; HOMOPHILY: high; NETWORK_OPINION: neutral; LLM_pos: comm-largest\n",
      "Optimal reward:  47\n"
     ]
    },
    {
     "data": {
      "text/plain": "message value:   0%|          | 0/100000 [00:00<?, ?it/s]",
      "application/vnd.jupyter.widget-view+json": {
       "version_major": 2,
       "version_minor": 0,
       "model_id": "8bc17042a1154365a5eaafe91db75060"
      }
     },
     "metadata": {},
     "output_type": "display_data"
    },
    {
     "name": "stdout",
     "output_type": "stream",
     "text": [
      "MODULARITY: high; HOMOPHILY: high; NETWORK_OPINION: positive; LLM_pos: comm-largest\n",
      "Optimal reward:  99\n"
     ]
    },
    {
     "data": {
      "text/plain": "message value:   0%|          | 0/100000 [00:00<?, ?it/s]",
      "application/vnd.jupyter.widget-view+json": {
       "version_major": 2,
       "version_minor": 0,
       "model_id": "76fd9b2837994797b507de9002c63573"
      }
     },
     "metadata": {},
     "output_type": "display_data"
    },
    {
     "name": "stdout",
     "output_type": "stream",
     "text": [
      "MODULARITY: high; HOMOPHILY: high; NETWORK_OPINION: negative; LLM_pos: comm-largest\n",
      "Optimal reward:  99\n"
     ]
    },
    {
     "data": {
      "text/plain": "message value:   0%|          | 0/100000 [00:00<?, ?it/s]",
      "application/vnd.jupyter.widget-view+json": {
       "version_major": 2,
       "version_minor": 0,
       "model_id": "fa909df826e0442281a4fbbec5ae4b29"
      }
     },
     "metadata": {},
     "output_type": "display_data"
    },
    {
     "name": "stdout",
     "output_type": "stream",
     "text": [
      "MODULARITY: high; HOMOPHILY: low; NETWORK_OPINION: neutral; LLM_pos: comm-largest\n",
      "Optimal reward:  43\n"
     ]
    },
    {
     "data": {
      "text/plain": "message value:   0%|          | 0/100000 [00:00<?, ?it/s]",
      "application/vnd.jupyter.widget-view+json": {
       "version_major": 2,
       "version_minor": 0,
       "model_id": "faade5310e2249f885a43c26bd5c6d1a"
      }
     },
     "metadata": {},
     "output_type": "display_data"
    },
    {
     "name": "stdout",
     "output_type": "stream",
     "text": [
      "MODULARITY: high; HOMOPHILY: low; NETWORK_OPINION: positive; LLM_pos: comm-largest\n",
      "Optimal reward:  99\n"
     ]
    },
    {
     "data": {
      "text/plain": "message value:   0%|          | 0/100000 [00:00<?, ?it/s]",
      "application/vnd.jupyter.widget-view+json": {
       "version_major": 2,
       "version_minor": 0,
       "model_id": "d242d9b015964275ad12257cb415feff"
      }
     },
     "metadata": {},
     "output_type": "display_data"
    },
    {
     "name": "stdout",
     "output_type": "stream",
     "text": [
      "MODULARITY: high; HOMOPHILY: low; NETWORK_OPINION: negative; LLM_pos: comm-largest\n",
      "Optimal reward:  98\n"
     ]
    },
    {
     "data": {
      "text/plain": "message value:   0%|          | 0/100000 [00:00<?, ?it/s]",
      "application/vnd.jupyter.widget-view+json": {
       "version_major": 2,
       "version_minor": 0,
       "model_id": "5ff34fb199344839b37c32831bdd9f8b"
      }
     },
     "metadata": {},
     "output_type": "display_data"
    },
    {
     "name": "stdout",
     "output_type": "stream",
     "text": [
      "MODULARITY: low; HOMOPHILY: high; NETWORK_OPINION: neutral; LLM_pos: comm-largest\n",
      "Optimal reward:  69\n"
     ]
    },
    {
     "data": {
      "text/plain": "message value:   0%|          | 0/100000 [00:00<?, ?it/s]",
      "application/vnd.jupyter.widget-view+json": {
       "version_major": 2,
       "version_minor": 0,
       "model_id": "76f185e8f951441bae6b798fce6d22b9"
      }
     },
     "metadata": {},
     "output_type": "display_data"
    },
    {
     "name": "stdout",
     "output_type": "stream",
     "text": [
      "MODULARITY: low; HOMOPHILY: high; NETWORK_OPINION: positive; LLM_pos: comm-largest\n",
      "Optimal reward:  99\n"
     ]
    },
    {
     "data": {
      "text/plain": "message value:   0%|          | 0/100000 [00:00<?, ?it/s]",
      "application/vnd.jupyter.widget-view+json": {
       "version_major": 2,
       "version_minor": 0,
       "model_id": "6c5dfcae1277464e945e8009f7877fcb"
      }
     },
     "metadata": {},
     "output_type": "display_data"
    },
    {
     "name": "stdout",
     "output_type": "stream",
     "text": [
      "MODULARITY: low; HOMOPHILY: high; NETWORK_OPINION: negative; LLM_pos: comm-largest\n",
      "Optimal reward:  97\n"
     ]
    },
    {
     "data": {
      "text/plain": "message value:   0%|          | 0/100000 [00:00<?, ?it/s]",
      "application/vnd.jupyter.widget-view+json": {
       "version_major": 2,
       "version_minor": 0,
       "model_id": "17c05a0308d34058a07b0cd10f410eca"
      }
     },
     "metadata": {},
     "output_type": "display_data"
    },
    {
     "name": "stdout",
     "output_type": "stream",
     "text": [
      "MODULARITY: low; HOMOPHILY: low; NETWORK_OPINION: neutral; LLM_pos: comm-largest\n",
      "Optimal reward:  47\n"
     ]
    },
    {
     "data": {
      "text/plain": "message value:   0%|          | 0/100000 [00:00<?, ?it/s]",
      "application/vnd.jupyter.widget-view+json": {
       "version_major": 2,
       "version_minor": 0,
       "model_id": "97e22db5f69f44dd98a7dddb912ef6cc"
      }
     },
     "metadata": {},
     "output_type": "display_data"
    },
    {
     "name": "stdout",
     "output_type": "stream",
     "text": [
      "MODULARITY: low; HOMOPHILY: low; NETWORK_OPINION: positive; LLM_pos: comm-largest\n",
      "Optimal reward:  99\n"
     ]
    },
    {
     "data": {
      "text/plain": "message value:   0%|          | 0/100000 [00:00<?, ?it/s]",
      "application/vnd.jupyter.widget-view+json": {
       "version_major": 2,
       "version_minor": 0,
       "model_id": "5c0bd4d5fc6041528602567e2543fd4b"
      }
     },
     "metadata": {},
     "output_type": "display_data"
    },
    {
     "name": "stdout",
     "output_type": "stream",
     "text": [
      "MODULARITY: low; HOMOPHILY: low; NETWORK_OPINION: negative; LLM_pos: comm-largest\n",
      "Optimal reward:  97\n"
     ]
    },
    {
     "data": {
      "text/plain": "message value:   0%|          | 0/100000 [00:00<?, ?it/s]",
      "application/vnd.jupyter.widget-view+json": {
       "version_major": 2,
       "version_minor": 0,
       "model_id": "4e0fd57b969d4582a09250bdc99edbf0"
      }
     },
     "metadata": {},
     "output_type": "display_data"
    },
    {
     "name": "stdout",
     "output_type": "stream",
     "text": [
      "MODULARITY: high; HOMOPHILY: high; NETWORK_OPINION: neutral; LLM_pos: comm-smallest\n",
      "Optimal reward:  45\n"
     ]
    },
    {
     "data": {
      "text/plain": "message value:   0%|          | 0/100000 [00:00<?, ?it/s]",
      "application/vnd.jupyter.widget-view+json": {
       "version_major": 2,
       "version_minor": 0,
       "model_id": "eeabaf2121054ed9a4579018598c6c2c"
      }
     },
     "metadata": {},
     "output_type": "display_data"
    },
    {
     "name": "stdout",
     "output_type": "stream",
     "text": [
      "MODULARITY: high; HOMOPHILY: high; NETWORK_OPINION: positive; LLM_pos: comm-smallest\n",
      "Optimal reward:  99\n"
     ]
    },
    {
     "data": {
      "text/plain": "message value:   0%|          | 0/100000 [00:00<?, ?it/s]",
      "application/vnd.jupyter.widget-view+json": {
       "version_major": 2,
       "version_minor": 0,
       "model_id": "fc23b9964845492ea074fe204ff65d7e"
      }
     },
     "metadata": {},
     "output_type": "display_data"
    },
    {
     "name": "stdout",
     "output_type": "stream",
     "text": [
      "MODULARITY: high; HOMOPHILY: high; NETWORK_OPINION: negative; LLM_pos: comm-smallest\n",
      "Optimal reward:  99\n"
     ]
    },
    {
     "data": {
      "text/plain": "message value:   0%|          | 0/100000 [00:00<?, ?it/s]",
      "application/vnd.jupyter.widget-view+json": {
       "version_major": 2,
       "version_minor": 0,
       "model_id": "0360cf2167c34928874b2768b75e6105"
      }
     },
     "metadata": {},
     "output_type": "display_data"
    },
    {
     "name": "stdout",
     "output_type": "stream",
     "text": [
      "MODULARITY: high; HOMOPHILY: low; NETWORK_OPINION: neutral; LLM_pos: comm-smallest\n",
      "Optimal reward:  42\n"
     ]
    },
    {
     "data": {
      "text/plain": "message value:   0%|          | 0/100000 [00:00<?, ?it/s]",
      "application/vnd.jupyter.widget-view+json": {
       "version_major": 2,
       "version_minor": 0,
       "model_id": "8aff336e7288461ab0ee81aed8725549"
      }
     },
     "metadata": {},
     "output_type": "display_data"
    },
    {
     "name": "stdout",
     "output_type": "stream",
     "text": [
      "MODULARITY: high; HOMOPHILY: low; NETWORK_OPINION: positive; LLM_pos: comm-smallest\n",
      "Optimal reward:  99\n"
     ]
    },
    {
     "data": {
      "text/plain": "message value:   0%|          | 0/100000 [00:00<?, ?it/s]",
      "application/vnd.jupyter.widget-view+json": {
       "version_major": 2,
       "version_minor": 0,
       "model_id": "3241a79d788a4fcebf02338468059b32"
      }
     },
     "metadata": {},
     "output_type": "display_data"
    },
    {
     "name": "stdout",
     "output_type": "stream",
     "text": [
      "MODULARITY: high; HOMOPHILY: low; NETWORK_OPINION: negative; LLM_pos: comm-smallest\n",
      "Optimal reward:  98\n"
     ]
    },
    {
     "data": {
      "text/plain": "message value:   0%|          | 0/100000 [00:00<?, ?it/s]",
      "application/vnd.jupyter.widget-view+json": {
       "version_major": 2,
       "version_minor": 0,
       "model_id": "14cb39df4205409c83ef5dc95eb9fc03"
      }
     },
     "metadata": {},
     "output_type": "display_data"
    },
    {
     "name": "stdout",
     "output_type": "stream",
     "text": [
      "MODULARITY: low; HOMOPHILY: high; NETWORK_OPINION: neutral; LLM_pos: comm-smallest\n",
      "Optimal reward:  70\n"
     ]
    },
    {
     "data": {
      "text/plain": "message value:   0%|          | 0/100000 [00:00<?, ?it/s]",
      "application/vnd.jupyter.widget-view+json": {
       "version_major": 2,
       "version_minor": 0,
       "model_id": "4653691ad02247259fbe3261bfdceb79"
      }
     },
     "metadata": {},
     "output_type": "display_data"
    },
    {
     "name": "stdout",
     "output_type": "stream",
     "text": [
      "MODULARITY: low; HOMOPHILY: high; NETWORK_OPINION: positive; LLM_pos: comm-smallest\n",
      "Optimal reward:  99\n"
     ]
    },
    {
     "data": {
      "text/plain": "message value:   0%|          | 0/100000 [00:00<?, ?it/s]",
      "application/vnd.jupyter.widget-view+json": {
       "version_major": 2,
       "version_minor": 0,
       "model_id": "b8b9d48d8f7341ac920241a1a57ba93f"
      }
     },
     "metadata": {},
     "output_type": "display_data"
    },
    {
     "name": "stdout",
     "output_type": "stream",
     "text": [
      "MODULARITY: low; HOMOPHILY: high; NETWORK_OPINION: negative; LLM_pos: comm-smallest\n",
      "Optimal reward:  97\n"
     ]
    },
    {
     "data": {
      "text/plain": "message value:   0%|          | 0/100000 [00:00<?, ?it/s]",
      "application/vnd.jupyter.widget-view+json": {
       "version_major": 2,
       "version_minor": 0,
       "model_id": "6ce198936c5b4f12b90b6adeaa99da6c"
      }
     },
     "metadata": {},
     "output_type": "display_data"
    },
    {
     "name": "stdout",
     "output_type": "stream",
     "text": [
      "MODULARITY: low; HOMOPHILY: low; NETWORK_OPINION: neutral; LLM_pos: comm-smallest\n",
      "Optimal reward:  48\n"
     ]
    },
    {
     "data": {
      "text/plain": "message value:   0%|          | 0/100000 [00:00<?, ?it/s]",
      "application/vnd.jupyter.widget-view+json": {
       "version_major": 2,
       "version_minor": 0,
       "model_id": "9ec0e6eb837a43b78e6a6aed75090bb0"
      }
     },
     "metadata": {},
     "output_type": "display_data"
    },
    {
     "name": "stdout",
     "output_type": "stream",
     "text": [
      "MODULARITY: low; HOMOPHILY: low; NETWORK_OPINION: positive; LLM_pos: comm-smallest\n",
      "Optimal reward:  99\n"
     ]
    },
    {
     "data": {
      "text/plain": "message value:   0%|          | 0/100000 [00:00<?, ?it/s]",
      "application/vnd.jupyter.widget-view+json": {
       "version_major": 2,
       "version_minor": 0,
       "model_id": "1779dc8abec44478a9b942c914bc4cc9"
      }
     },
     "metadata": {},
     "output_type": "display_data"
    },
    {
     "name": "stdout",
     "output_type": "stream",
     "text": [
      "MODULARITY: low; HOMOPHILY: low; NETWORK_OPINION: negative; LLM_pos: comm-smallest\n",
      "Optimal reward:  97\n"
     ]
    },
    {
     "data": {
      "text/plain": "message value:   0%|          | 0/100000 [00:00<?, ?it/s]",
      "application/vnd.jupyter.widget-view+json": {
       "version_major": 2,
       "version_minor": 0,
       "model_id": "1a312a5e567f4f02a163ef7a21f0ed1a"
      }
     },
     "metadata": {},
     "output_type": "display_data"
    },
    {
     "name": "stdout",
     "output_type": "stream",
     "text": [
      "MODULARITY: high; HOMOPHILY: high; NETWORK_OPINION: neutral; LLM_pos: central\n",
      "Optimal reward:  48\n"
     ]
    },
    {
     "data": {
      "text/plain": "message value:   0%|          | 0/100000 [00:00<?, ?it/s]",
      "application/vnd.jupyter.widget-view+json": {
       "version_major": 2,
       "version_minor": 0,
       "model_id": "6b1f38a620d04d738a3ec4617711a17d"
      }
     },
     "metadata": {},
     "output_type": "display_data"
    },
    {
     "name": "stdout",
     "output_type": "stream",
     "text": [
      "MODULARITY: high; HOMOPHILY: high; NETWORK_OPINION: positive; LLM_pos: central\n",
      "Optimal reward:  99\n"
     ]
    },
    {
     "data": {
      "text/plain": "message value:   0%|          | 0/100000 [00:00<?, ?it/s]",
      "application/vnd.jupyter.widget-view+json": {
       "version_major": 2,
       "version_minor": 0,
       "model_id": "dbfdba6c5c8446949b391b679da85aa2"
      }
     },
     "metadata": {},
     "output_type": "display_data"
    },
    {
     "name": "stdout",
     "output_type": "stream",
     "text": [
      "MODULARITY: high; HOMOPHILY: high; NETWORK_OPINION: negative; LLM_pos: central\n",
      "Optimal reward:  99\n"
     ]
    },
    {
     "data": {
      "text/plain": "message value:   0%|          | 0/100000 [00:00<?, ?it/s]",
      "application/vnd.jupyter.widget-view+json": {
       "version_major": 2,
       "version_minor": 0,
       "model_id": "a95f9330f35a4fd89b16560552f76a54"
      }
     },
     "metadata": {},
     "output_type": "display_data"
    },
    {
     "name": "stdout",
     "output_type": "stream",
     "text": [
      "MODULARITY: high; HOMOPHILY: low; NETWORK_OPINION: neutral; LLM_pos: central\n",
      "Optimal reward:  42\n"
     ]
    },
    {
     "data": {
      "text/plain": "message value:   0%|          | 0/100000 [00:00<?, ?it/s]",
      "application/vnd.jupyter.widget-view+json": {
       "version_major": 2,
       "version_minor": 0,
       "model_id": "2b3d300e30f548fca8879a5299764b9d"
      }
     },
     "metadata": {},
     "output_type": "display_data"
    },
    {
     "name": "stdout",
     "output_type": "stream",
     "text": [
      "MODULARITY: high; HOMOPHILY: low; NETWORK_OPINION: positive; LLM_pos: central\n",
      "Optimal reward:  99\n"
     ]
    },
    {
     "data": {
      "text/plain": "message value:   0%|          | 0/100000 [00:00<?, ?it/s]",
      "application/vnd.jupyter.widget-view+json": {
       "version_major": 2,
       "version_minor": 0,
       "model_id": "85c4b7fff32f4da18528248787e3f43a"
      }
     },
     "metadata": {},
     "output_type": "display_data"
    },
    {
     "name": "stdout",
     "output_type": "stream",
     "text": [
      "MODULARITY: high; HOMOPHILY: low; NETWORK_OPINION: negative; LLM_pos: central\n",
      "Optimal reward:  98\n"
     ]
    },
    {
     "data": {
      "text/plain": "message value:   0%|          | 0/100000 [00:00<?, ?it/s]",
      "application/vnd.jupyter.widget-view+json": {
       "version_major": 2,
       "version_minor": 0,
       "model_id": "bcd54b1bd1d04d4eb852b8e410d259e4"
      }
     },
     "metadata": {},
     "output_type": "display_data"
    },
    {
     "name": "stdout",
     "output_type": "stream",
     "text": [
      "MODULARITY: low; HOMOPHILY: high; NETWORK_OPINION: neutral; LLM_pos: central\n",
      "Optimal reward:  69\n"
     ]
    },
    {
     "data": {
      "text/plain": "message value:   0%|          | 0/100000 [00:00<?, ?it/s]",
      "application/vnd.jupyter.widget-view+json": {
       "version_major": 2,
       "version_minor": 0,
       "model_id": "84c0098ab1614b97a4ee102802255e10"
      }
     },
     "metadata": {},
     "output_type": "display_data"
    },
    {
     "name": "stdout",
     "output_type": "stream",
     "text": [
      "MODULARITY: low; HOMOPHILY: high; NETWORK_OPINION: positive; LLM_pos: central\n",
      "Optimal reward:  99\n"
     ]
    },
    {
     "data": {
      "text/plain": "message value:   0%|          | 0/100000 [00:00<?, ?it/s]",
      "application/vnd.jupyter.widget-view+json": {
       "version_major": 2,
       "version_minor": 0,
       "model_id": "b7e887e640814bb89c056d0a2d6db764"
      }
     },
     "metadata": {},
     "output_type": "display_data"
    },
    {
     "name": "stdout",
     "output_type": "stream",
     "text": [
      "MODULARITY: low; HOMOPHILY: high; NETWORK_OPINION: negative; LLM_pos: central\n",
      "Optimal reward:  97\n"
     ]
    },
    {
     "data": {
      "text/plain": "message value:   0%|          | 0/100000 [00:00<?, ?it/s]",
      "application/vnd.jupyter.widget-view+json": {
       "version_major": 2,
       "version_minor": 0,
       "model_id": "d2940a8a9eb642ddb8afdeac17f931ec"
      }
     },
     "metadata": {},
     "output_type": "display_data"
    },
    {
     "name": "stdout",
     "output_type": "stream",
     "text": [
      "MODULARITY: low; HOMOPHILY: low; NETWORK_OPINION: neutral; LLM_pos: central\n",
      "Optimal reward:  47\n"
     ]
    },
    {
     "data": {
      "text/plain": "message value:   0%|          | 0/100000 [00:00<?, ?it/s]",
      "application/vnd.jupyter.widget-view+json": {
       "version_major": 2,
       "version_minor": 0,
       "model_id": "99f458af08fc48e8ba034a958cec5d9d"
      }
     },
     "metadata": {},
     "output_type": "display_data"
    },
    {
     "name": "stdout",
     "output_type": "stream",
     "text": [
      "MODULARITY: low; HOMOPHILY: low; NETWORK_OPINION: positive; LLM_pos: central\n",
      "Optimal reward:  99\n"
     ]
    },
    {
     "data": {
      "text/plain": "message value:   0%|          | 0/100000 [00:00<?, ?it/s]",
      "application/vnd.jupyter.widget-view+json": {
       "version_major": 2,
       "version_minor": 0,
       "model_id": "1d68d36486fe40f58990209676a9d012"
      }
     },
     "metadata": {},
     "output_type": "display_data"
    },
    {
     "name": "stdout",
     "output_type": "stream",
     "text": [
      "MODULARITY: low; HOMOPHILY: low; NETWORK_OPINION: negative; LLM_pos: central\n",
      "Optimal reward:  97\n"
     ]
    }
   ],
   "source": [
    "from tqdm.notebook import tqdm\n",
    "import os, sys\n",
    "import matplotlib.pyplot as plt\n",
    "import networkx as nx\n",
    "import numpy as np\n",
    "\n",
    "sys.path.insert(0, \"../src\")\n",
    "sys.path.insert(0, \"/mnt/nas/minici/SocialAIGym/src\")\n",
    "\n",
    "from data_component import DataComponent\n",
    "from information_diffusion_component import BoundedConfidenceDiffusionComponent\n",
    "from graph_utils import *\n",
    "\n",
    "num_nodes = 100\n",
    "avg_deg = 5\n",
    "\n",
    "# bounded confidence model params\n",
    "epsilon = 0.2\n",
    "mu = 0.5\n",
    "\n",
    "def get_optimal_reward(bc_model, llm_node_id, search_granularity=1e-5):\n",
    "    message_value_list = []\n",
    "    reward_list = []\n",
    "    for message_value in tqdm(np.arange(0., 1., search_granularity), \"message value\"):\n",
    "        opinion_shift_tot, num_activated_users, _ = bc_model.propagate_message(message=message_value, node_id=llm_node_id)\n",
    "        message_value_list.append(message_value)\n",
    "        reward_list.append(num_activated_users)\n",
    "    return np.max(reward_list), {'message_opinion': message_value_list, 'reward': reward_list}\n",
    "\n",
    "\n",
    "\n",
    "for LLM_pos in (\"echo-low\", \"echo-high\", \"comm-largest\", \"comm-smallest\", \"central\"):\n",
    "    for MODULARITY in (\"high\", \"low\"):\n",
    "        for HOMOPHILY in (\"high\", \"low\"):\n",
    "            for NETWORK_OPINION in ('neutral', 'positive', 'negative'):\n",
    "                if MODULARITY == 'high':\n",
    "                    modularity = 0.75\n",
    "                elif MODULARITY == 'low':\n",
    "                    modularity = 0.25\n",
    "                elif MODULARITY == 'medium':\n",
    "                    modularity = 0.5\n",
    "                else:\n",
    "                    raise Exception(f\"modularity {MODULARITY} not in (high, low, medium)\")\n",
    "\n",
    "                if HOMOPHILY == 'high':\n",
    "                    homophily = 0.75\n",
    "                elif HOMOPHILY == 'low':\n",
    "                    homophily = 0.25\n",
    "                elif HOMOPHILY == 'medium':\n",
    "                    homophily = 0.5\n",
    "                else:\n",
    "                    raise Exception(f\"homophily {HOMOPHILY} not in (high, low, medium)\")\n",
    "\n",
    "                if NETWORK_OPINION == 'negative':\n",
    "                    alpha = 1\n",
    "                    beta = 10\n",
    "                elif NETWORK_OPINION == 'positive':\n",
    "                    alpha = 10\n",
    "                    beta = 1\n",
    "                elif NETWORK_OPINION == 'neutral':\n",
    "                    alpha = 1\n",
    "                    beta = 1\n",
    "                else:\n",
    "                    raise Exception(f\"network_opinion {NETWORK_OPINION} not in (positive, negative, neutral)\")\n",
    "\n",
    "                data = DataComponent(num_nodes, modularity, homophily, avg_deg, alpha=alpha, beta=beta)\n",
    "\n",
    "                if LLM_pos == \"echo-low\":\n",
    "                    llm_node_id = LLM_in_echochamber(data, \"low\")\n",
    "                elif LLM_pos == \"echo-high\":\n",
    "                    llm_node_id = LLM_in_echochamber(data, \"high\")\n",
    "                elif LLM_pos == \"comm-largest\":\n",
    "                    llm_node_id = LLM_in_comm(data, \"largest\")\n",
    "                elif LLM_pos == \"comm-smallest\":\n",
    "                    llm_node_id = LLM_in_comm(data, \"smallest\")\n",
    "                elif LLM_pos == \"central\":\n",
    "                    llm_node_id = LLM_central(data)\n",
    "                # 1. Init diffusion model ----------------------------------------\n",
    "                information_diffusion_model = BoundedConfidenceDiffusionComponent(data_component=data, epsilon=epsilon, mu=mu)\n",
    "                optimal_reward, _ = get_optimal_reward(bc_model=information_diffusion_model, llm_node_id=llm_node_id, search_granularity=1e-5)\n",
    "                print(f\"MODULARITY: {MODULARITY}; HOMOPHILY: {HOMOPHILY}; NETWORK_OPINION: {NETWORK_OPINION}; LLM_pos: {LLM_pos}\")\n",
    "                print(\"Optimal reward: \", optimal_reward)\n"
   ],
   "metadata": {
    "collapsed": false,
    "pycharm": {
     "name": "#%%\n"
    }
   }
  }
 ],
 "metadata": {
  "kernelspec": {
   "display_name": "Python 3",
   "language": "python",
   "name": "python3"
  },
  "language_info": {
   "codemirror_mode": {
    "name": "ipython",
    "version": 2
   },
   "file_extension": ".py",
   "mimetype": "text/x-python",
   "name": "python",
   "nbconvert_exporter": "python",
   "pygments_lexer": "ipython2",
   "version": "2.7.6"
  }
 },
 "nbformat": 4,
 "nbformat_minor": 0
}