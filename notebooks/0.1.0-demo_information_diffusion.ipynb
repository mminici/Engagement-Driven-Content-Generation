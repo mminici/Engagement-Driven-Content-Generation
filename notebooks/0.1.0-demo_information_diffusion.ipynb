{
 "cells": [
  {
   "cell_type": "code",
   "execution_count": 2,
   "metadata": {
    "pycharm": {
     "name": "#%%\n"
    }
   },
   "outputs": [
    {
     "name": "stdout",
     "output_type": "stream",
     "text": [
      "/mnt/nas/cinus/SocialAIGym/src\n"
     ]
    },
    {
     "name": "stderr",
     "output_type": "stream",
     "text": [
      "/mnt/nas/cinus/miniconda3/envs/sgae/lib/python3.10/site-packages/IPython/core/magics/osm.py:417: UserWarning: using dhist requires you to install the `pickleshare` library.\n",
      "  self.shell.db['dhist'] = compress_dhist(dhist)[-100:]\n"
     ]
    }
   ],
   "source": [
    "%cd ../src"
   ]
  },
  {
   "cell_type": "code",
   "execution_count": 3,
   "metadata": {
    "pycharm": {
     "name": "#%%\n"
    }
   },
   "outputs": [],
   "source": [
    "from data_component import DataComponent\n",
    "from information_diffusion_component import BoundedConfidenceDiffusionComponent\n"
   ]
  },
  {
   "cell_type": "code",
   "execution_count": 4,
   "metadata": {
    "pycharm": {
     "name": "#%%\n"
    }
   },
   "outputs": [],
   "source": [
    "# synthetic data generator params\n",
    "num_nodes = 100\n",
    "modularity = 0.5\n",
    "homophily = 0.5\n",
    "\n",
    "# bounded confidence model params\n",
    "epsilon = 0.2\n",
    "epsilon_backfire = 0.2\n",
    "mu = 0.5\n"
   ]
  },
  {
   "cell_type": "code",
   "execution_count": 5,
   "metadata": {
    "pycharm": {
     "name": "#%%\n"
    }
   },
   "outputs": [],
   "source": [
    "data = DataComponent(num_nodes, modularity, homophily)\n",
    "data.pre_compute_neighboring()  # save neighbors for each node\n",
    "information_diffusion_model = BoundedConfidenceDiffusionComponent(data_component=data, epsilon=epsilon, mu=mu, epsilon_backfire=epsilon_backfire)\n"
   ]
  },
  {
   "cell_type": "markdown",
   "metadata": {
    "pycharm": {
     "name": "#%% md\n"
    }
   },
   "source": [
    "---"
   ]
  },
  {
   "cell_type": "code",
   "execution_count": 6,
   "metadata": {
    "pycharm": {
     "name": "#%%\n"
    },
    "scrolled": true
   },
   "outputs": [
    {
     "name": "stdout",
     "output_type": "stream",
     "text": [
      "Opinions stats \n",
      "mean: 0.5545348476433055\n",
      "std: 0.23053503646919662\n",
      "min: 0.015739486491662222\n",
      "max: 0.9669202617321477\n"
     ]
    },
    {
     "data": {
      "text/plain": [
       "Text(0, 0.5, 'occurrences')"
      ]
     },
     "execution_count": 6,
     "metadata": {},
     "output_type": "execute_result"
    },
    {
     "data": {
      "image/png": "[encoded data removed]",
      "text/plain": [
       "<Figure size 640x480 with 1 Axes>"
      ]
     },
     "metadata": {},
     "output_type": "display_data"
    }
   ],
   "source": [
    "# print some basic statistics\n",
    "opinions = information_diffusion_model.get_opinions()\n",
    "print(f'Opinions stats \\nmean: {opinions.mean()}\\nstd: {opinions.std()}\\nmin: {opinions.min()}\\nmax: {opinions.max()}')\n",
    "\n",
    "import matplotlib.pyplot as plt\n",
    "_ = plt.hist(opinions, bins=25, range=[0,1])\n",
    "plt.xlabel('opinion value')\n",
    "plt.ylabel('occurrences')\n"
   ]
  },
  {
   "cell_type": "markdown",
   "metadata": {
    "pycharm": {
     "name": "#%% md\n"
    }
   },
   "source": [
    "---"
   ]
  },
  {
   "cell_type": "code",
   "execution_count": 32,
   "metadata": {
    "pycharm": {
     "name": "#%%\n"
    }
   },
   "outputs": [],
   "source": [
    "# try to propagate some message\n",
    "llm_node_id = 0\n",
    "message_value = 0.75\n",
    "\n",
    "opinion_shift_tot, num_activated_users, _ = information_diffusion_model.propagate_message(message=message_value,\n",
    "                                                                                          node_id=llm_node_id)\n"
   ]
  },
  {
   "cell_type": "code",
   "execution_count": 33,
   "metadata": {},
   "outputs": [
    {
     "name": "stdout",
     "output_type": "stream",
     "text": [
      "message_value 0.75 min: 0.716 max: 1.116 True\n",
      "message_value 0.75 min: 0.049 max: 0.449 False\n",
      "message_value 0.75 min: 0.716 max: 1.116 True\n",
      "message_value 0.75 min: 0.716 max: 1.116 True\n",
      "message_value 0.75 min: -0.139 max: 0.261 False\n",
      "message_value 0.75 min: 0.008 max: 0.408 False\n"
     ]
    }
   ],
   "source": [
    "# Check if message can propagate in first neighbors\n",
    "for u in list(data.G.neighbors(0)):\n",
    "    min_opinion, max_opinion = (data.get_opinion(u) - epsilon, data.get_opinion(u) + epsilon)\n",
    "    print(\"message_value\", message_value, f\"min: {min_opinion:.3f}\", f\"max: {max_opinion:.3f}\", min_opinion < message_value < max_opinion)"
   ]
  },
  {
   "cell_type": "code",
   "execution_count": 34,
   "metadata": {
    "pycharm": {
     "name": "#%%\n"
    }
   },
   "outputs": [
    {
     "data": {
      "text/plain": [
       "-2.6764979004724276"
      ]
     },
     "execution_count": 34,
     "metadata": {},
     "output_type": "execute_result"
    }
   ],
   "source": [
    "opinion_shift_tot"
   ]
  },
  {
   "cell_type": "code",
   "execution_count": 35,
   "metadata": {
    "pycharm": {
     "name": "#%%\n"
    }
   },
   "outputs": [
    {
     "data": {
      "text/plain": [
       "65"
      ]
     },
     "execution_count": 35,
     "metadata": {},
     "output_type": "execute_result"
    }
   ],
   "source": [
    "num_activated_users"
   ]
  },
  {
   "cell_type": "code",
   "execution_count": 36,
   "metadata": {
    "pycharm": {
     "name": "#%%\n"
    }
   },
   "outputs": [
    {
     "name": "stdout",
     "output_type": "stream",
     "text": [
      "Opinions stats \n",
      "mean: 0.6687293709774604\n",
      "std: 0.2838142763156819\n",
      "min: 0.051649000758010294\n",
      "max: 0.961941109558201\n"
     ]
    },
    {
     "data": {
      "text/plain": [
       "Text(0, 0.5, 'occurrences')"
      ]
     },
     "execution_count": 36,
     "metadata": {},
     "output_type": "execute_result"
    },
    {
     "data": {
      "image/png": "[encoded data removed]",
      "text/plain": [
       "<Figure size 640x480 with 1 Axes>"
      ]
     },
     "metadata": {},
     "output_type": "display_data"
    }
   ],
   "source": [
    "# print some basic statistics\n",
    "opinions = information_diffusion_model.get_opinions()\n",
    "print(f'Opinions stats \\nmean: {opinions.mean()}\\nstd: {opinions.std()}\\nmin: {opinions.min()}\\nmax: {opinions.max()}')\n",
    "\n",
    "import matplotlib.pyplot as plt\n",
    "_ = plt.hist(opinions, bins=25, range=[0,1])\n",
    "plt.xlabel('opinion value')\n",
    "plt.ylabel('occurrences')\n"
   ]
  },
  {
   "cell_type": "code",
   "execution_count": null,
   "metadata": {
    "pycharm": {
     "name": "#%%\n"
    }
   },
   "outputs": [],
   "source": []
  }
 ],
 "metadata": {
  "kernelspec": {
   "display_name": "sgae",
   "language": "python",
   "name": "python3"
  },
  "language_info": {
   "codemirror_mode": {
    "name": "ipython",
    "version": 3
   },
   "file_extension": ".py",
   "mimetype": "text/x-python",
   "name": "python",
   "nbconvert_exporter": "python",
   "pygments_lexer": "ipython3",
   "version": "3.10.13"
  }
 },
 "nbformat": 4,
 "nbformat_minor": 1
}
