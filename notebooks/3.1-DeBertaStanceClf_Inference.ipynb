{
 "cells": [
  {
   "cell_type": "code",
   "execution_count": 2,
   "id": "674017fa-06b0-42c6-9a31-d63dfa992010",
   "metadata": {},
   "outputs": [],
   "source": [
    "import pathlib\n",
    "basedir = pathlib.Path.cwd().parent\n",
    "deviceId = '0'\n",
    "pathClf = basedir / 'data' / 'processed' / f'calibrated_classifier_{\"DEBERTA\"}_{\"95perc\"}.pkl'\n",
    "pathPCA = basedir / 'data' / 'processed' / f'pca_projector_{\"DEBERTA\"}_{\"95perc\"}.pkl'\n"
   ]
  },
  {
   "cell_type": "code",
   "execution_count": 3,
   "id": "e93935c8-8da2-49b0-a191-c153de3eadff",
   "metadata": {},
   "outputs": [],
   "source": [
    "import os\n",
    "# Set environment variables\n",
    "os.environ['TOKENIZERS_PARALLELISM'] = 'false'\n",
    "os.environ['CUDA_VISIBLE_DEVICES'] = deviceId\n",
    "os.environ[\"WORLD_SIZE\"] = \"1\"\n",
    "import joblib\n",
    "import torch\n",
    "# from transformers import DistilBertTokenizer, DistilBertModel\n",
    "from transformers import DebertaV2Tokenizer, DebertaV2Model\n",
    "\n",
    "\n",
    "class StanceClassifier:\n",
    "    def __init__(self, pathPCA, pathClf, device):\n",
    "        self.device = device\n",
    "        # Load the text embedder (DistilBERT)\n",
    "        self.tokenizer = DebertaV2Tokenizer.from_pretrained('microsoft/deberta-v2-xlarge')\n",
    "        self.model = DebertaV2Model.from_pretrained('microsoft/deberta-v2-xlarge').to(device)\n",
    "        # Load the trained classifier and PCA projector\n",
    "        self.calibrated_clf = joblib.load(pathClf)\n",
    "        self.pca = joblib.load(pathPCA)\n",
    "\n",
    "    def get_embeddings(self, text):\n",
    "        inputs = self.tokenizer(text, return_tensors='pt', truncation=True, padding=True, max_length=512).to(self.device)\n",
    "        with torch.no_grad():\n",
    "            outputs = self.model(**inputs)\n",
    "        return outputs.last_hidden_state.mean(dim=1).cpu().squeeze().numpy()\n",
    "\n",
    "    def predict_proba(self, text):\n",
    "        # Extract embeddings using DistilBERT\n",
    "        embedding = self.get_embeddings(text).reshape(1, -1)\n",
    "        \n",
    "        # Compress embedding using trained PCA\n",
    "        embedding_pca = self.pca.transform(embedding)\n",
    "        \n",
    "        # Compute probability score using trained calibrated logistic regression\n",
    "        prob_score = self.calibrated_clf.predict_proba(embedding_pca)[:, 1][0]\n",
    "        \n",
    "        return prob_score\n",
    "\n"
   ]
  },
  {
   "cell_type": "code",
   "execution_count": 4,
   "id": "913c4139-c0b8-4864-b19f-9b9e6a314611",
   "metadata": {},
   "outputs": [
    {
     "data": {
      "application/vnd.jupyter.widget-view+json": {
       "model_id": "f3722dab5d1b411c81bd7ef84c4b8c28",
       "version_major": 2,
       "version_minor": 0
      },
      "text/plain": [
       "tokenizer_config.json:   0%|          | 0.00/52.0 [00:00<?, ?B/s]"
      ]
     },
     "metadata": {},
     "output_type": "display_data"
    },
    {
     "data": {
      "application/vnd.jupyter.widget-view+json": {
       "model_id": "cee972640c26456ea10558e16038b99d",
       "version_major": 2,
       "version_minor": 0
      },
      "text/plain": [
       "spm.model:   0%|          | 0.00/2.45M [00:00<?, ?B/s]"
      ]
     },
     "metadata": {},
     "output_type": "display_data"
    },
    {
     "data": {
      "application/vnd.jupyter.widget-view+json": {
       "model_id": "636a7367a52446ed840649b19ef8f52c",
       "version_major": 2,
       "version_minor": 0
      },
      "text/plain": [
       "config.json:   0%|          | 0.00/633 [00:00<?, ?B/s]"
      ]
     },
     "metadata": {},
     "output_type": "display_data"
    },
    {
     "data": {
      "application/vnd.jupyter.widget-view+json": {
       "model_id": "06e05a6879174d69bf9111ede700ae0e",
       "version_major": 2,
       "version_minor": 0
      },
      "text/plain": [
       "pytorch_model.bin:   0%|          | 0.00/1.78G [00:00<?, ?B/s]"
      ]
     },
     "metadata": {},
     "output_type": "display_data"
    },
    {
     "name": "stderr",
     "output_type": "stream",
     "text": [
      "/home/coppolillo/venv/lib/python3.10/site-packages/sklearn/base.py:376: InconsistentVersionWarning: Trying to unpickle estimator LogisticRegression from version 1.5.1 when using version 1.4.1.post1. This might lead to breaking code or invalid results. Use at your own risk. For more info please refer to:\n",
      "https://scikit-learn.org/stable/model_persistence.html#security-maintainability-limitations\n",
      "  warnings.warn(\n",
      "/home/coppolillo/venv/lib/python3.10/site-packages/sklearn/base.py:376: InconsistentVersionWarning: Trying to unpickle estimator IsotonicRegression from version 1.5.1 when using version 1.4.1.post1. This might lead to breaking code or invalid results. Use at your own risk. For more info please refer to:\n",
      "https://scikit-learn.org/stable/model_persistence.html#security-maintainability-limitations\n",
      "  warnings.warn(\n",
      "/home/coppolillo/venv/lib/python3.10/site-packages/sklearn/base.py:376: InconsistentVersionWarning: Trying to unpickle estimator CalibratedClassifierCV from version 1.5.1 when using version 1.4.1.post1. This might lead to breaking code or invalid results. Use at your own risk. For more info please refer to:\n",
      "https://scikit-learn.org/stable/model_persistence.html#security-maintainability-limitations\n",
      "  warnings.warn(\n",
      "/home/coppolillo/venv/lib/python3.10/site-packages/sklearn/base.py:376: InconsistentVersionWarning: Trying to unpickle estimator PCA from version 1.5.1 when using version 1.4.1.post1. This might lead to breaking code or invalid results. Use at your own risk. For more info please refer to:\n",
      "https://scikit-learn.org/stable/model_persistence.html#security-maintainability-limitations\n",
      "  warnings.warn(\n"
     ]
    }
   ],
   "source": [
    "# Example usage\n",
    "device = torch.device('cuda' if torch.cuda.is_available() else 'cpu')\n",
    "classifier = StanceClassifier(pathPCA=pathPCA, pathClf=pathClf, device=device)\n"
   ]
  },
  {
   "cell_type": "code",
   "execution_count": 5,
   "id": "4da930b5-6933-4c98-8d1a-8b5cfef795a8",
   "metadata": {},
   "outputs": [
    {
     "name": "stdout",
     "output_type": "stream",
     "text": [
      "Predicted probability score: 0.0267\n"
     ]
    }
   ],
   "source": [
    "example_text = \"Brexit? I support Nigel Farage and UKIP reasons to leave the EU market\"\n",
    "probability_score = classifier.predict_proba(example_text)\n",
    "print(f'Predicted probability score: {probability_score:.4f}')\n"
   ]
  },
  {
   "cell_type": "code",
   "execution_count": 6,
   "id": "46c46802-ff3f-4923-b28a-b79d6cd792c1",
   "metadata": {},
   "outputs": [
    {
     "name": "stdout",
     "output_type": "stream",
     "text": [
      "Predicted probability score: 0.1784\n"
     ]
    }
   ],
   "source": [
    "example_text = \"I will vote for leave but I like Schengen free travel area\"\n",
    "probability_score = classifier.predict_proba(example_text)\n",
    "print(f'Predicted probability score: {probability_score:.4f}')\n"
   ]
  },
  {
   "cell_type": "code",
   "execution_count": 50,
   "id": "313f7929-d483-4530-9c90-3d60aa7c273b",
   "metadata": {},
   "outputs": [
    {
     "name": "stdout",
     "output_type": "stream",
     "text": [
      "Predicted probability score: 0.5708\n"
     ]
    }
   ],
   "source": [
    "example_text = \"I am half between remain and leave\"\n",
    "probability_score = classifier.predict_proba(example_text)\n",
    "print(f'Predicted probability score: {probability_score:.4f}')\n",
    "\n"
   ]
  },
  {
   "cell_type": "code",
   "execution_count": 54,
   "id": "199df855-8224-4fee-bbd9-17eb4dcc8609",
   "metadata": {},
   "outputs": [
    {
     "name": "stdout",
     "output_type": "stream",
     "text": [
      "Predicted probability score: 0.6368\n"
     ]
    }
   ],
   "source": [
    "example_text = \"I strongly support Remain! Brexit will destroy the UK economy\"\n",
    "probability_score = classifier.predict_proba(example_text)\n",
    "print(f'Predicted probability score: {probability_score:.4f}')\n",
    "\n"
   ]
  },
  {
   "cell_type": "code",
   "execution_count": 55,
   "id": "8ee368d6-b960-4e45-8a3c-21b349b3be42",
   "metadata": {},
   "outputs": [
    {
     "name": "stdout",
     "output_type": "stream",
     "text": [
      "Predicted probability score: 0.7305\n"
     ]
    }
   ],
   "source": [
    "example_text = \"I vote Remain because I am an immigrant and I want to feel welcomed.\"\n",
    "probability_score = classifier.predict_proba(example_text)\n",
    "print(f'Predicted probability score: {probability_score:.4f}')\n"
   ]
  },
  {
   "cell_type": "code",
   "execution_count": 15,
   "id": "86e746e7-cb27-4582-9c64-120867704b13",
   "metadata": {},
   "outputs": [
    {
     "name": "stdout",
     "output_type": "stream",
     "text": [
      "Predicted probability score: 0.9913\n"
     ]
    }
   ],
   "source": [
    "example_text = \"I vote Remain because I am an immigrant and I want to feel welcomed. #StrongerIn\"\n",
    "probability_score = classifier.predict_proba(example_text)\n",
    "print(f'Predicted probability score: {probability_score:.4f}')\n"
   ]
  },
  {
   "cell_type": "code",
   "execution_count": 20,
   "id": "798a0ec3-595b-4b73-b343-040e521b20a0",
   "metadata": {},
   "outputs": [
    {
     "name": "stdout",
     "output_type": "stream",
     "text": [
      "Predicted probability score: 0.4359\n"
     ]
    }
   ],
   "source": [
    "example_text = \"Brexit is the most disastrous policy of all time, and history is repeating itself. Is it not true that this can be the case?\"\n",
    "probability_score = classifier.predict_proba(example_text)\n",
    "print(f'Predicted probability score: {probability_score:.4f}')\n"
   ]
  },
  {
   "cell_type": "code",
   "execution_count": 14,
   "id": "94a382cd-a251-4b8d-ba2a-eb63a7c9e463",
   "metadata": {},
   "outputs": [
    {
     "data": {
      "text/plain": [
       "'Brexit is the most disastrous policy of all time, and history is repeating itself. Is it not true that this can be the case?'"
      ]
     },
     "execution_count": 14,
     "metadata": {},
     "output_type": "execute_result"
    }
   ],
   "source": [
    "example_text"
   ]
  },
  {
   "cell_type": "code",
   "execution_count": 10,
   "id": "c4657af7-d72b-4bdc-be95-5e7748ad90d3",
   "metadata": {},
   "outputs": [],
   "source": [
    "from transformers import (\n",
    "    Adafactor,\n",
    "    AutoTokenizer,\n",
    "    LlamaTokenizer,\n",
    "    HfArgumentParser,\n",
    "    pipeline\n",
    ")"
   ]
  },
  {
   "cell_type": "code",
   "execution_count": 11,
   "id": "870dc537-4e9f-40d6-9911-d11c652478d7",
   "metadata": {},
   "outputs": [],
   "source": [
    "sentiment_model = pipeline(\"sentiment-analysis\", model=\"lvwerra/distilbert-imdb\")"
   ]
  },
  {
   "cell_type": "code",
   "execution_count": 16,
   "id": "e1a28438-07b2-4fbf-8a28-290060418b71",
   "metadata": {},
   "outputs": [],
   "source": [
    "sentiment_outputs = sentiment_model(example_text)\n",
    "messages_values = [output[\"score\"] if output[\"label\"] == \"POSITIVE\" else 1 - output[\"score\"]\n",
    "                   for output in sentiment_outputs]"
   ]
  },
  {
   "cell_type": "code",
   "execution_count": 17,
   "id": "09417007-3563-400e-a003-26fe885c9a8a",
   "metadata": {},
   "outputs": [
    {
     "data": {
      "text/plain": [
       "[0.6802294254302979]"
      ]
     },
     "execution_count": 17,
     "metadata": {},
     "output_type": "execute_result"
    }
   ],
   "source": [
    "messages_values"
   ]
  },
  {
   "cell_type": "code",
   "execution_count": 22,
   "id": "5715f0f7-1d82-49a0-9268-18fa746e5d49",
   "metadata": {},
   "outputs": [],
   "source": [
    "example_text = \"Brexit is bullshit\""
   ]
  },
  {
   "cell_type": "code",
   "execution_count": 24,
   "id": "0f097758-8e6b-4b13-bd3d-f72dbb28f1c9",
   "metadata": {},
   "outputs": [
    {
     "name": "stdout",
     "output_type": "stream",
     "text": [
      "Predicted probability score: 1.0000\n"
     ]
    }
   ],
   "source": [
    "probability_score = classifier.predict_proba(example_text)\n",
    "print(f'Predicted probability score: {1 - probability_score:.4f}')"
   ]
  },
  {
   "cell_type": "code",
   "execution_count": 25,
   "id": "70a7976f-2575-449e-8ae7-daa22e666455",
   "metadata": {},
   "outputs": [
    {
     "data": {
      "text/plain": [
       "[0.028895556926727295]"
      ]
     },
     "execution_count": 25,
     "metadata": {},
     "output_type": "execute_result"
    }
   ],
   "source": [
    "sentiment_outputs = sentiment_model(example_text)\n",
    "[output[\"score\"] if output[\"label\"] == \"POSITIVE\" else 1 - output[\"score\"]\n",
    "                   for output in sentiment_outputs]"
   ]
  },
  {
   "cell_type": "code",
   "execution_count": 26,
   "id": "a1a65ad1-7e1e-4896-afd1-328d746afb06",
   "metadata": {},
   "outputs": [],
   "source": [
    "example_text = \"Brexit is Heaven\""
   ]
  },
  {
   "cell_type": "code",
   "execution_count": 27,
   "id": "57ec5b59-aec1-4f9e-9555-027adcdf9ed1",
   "metadata": {},
   "outputs": [
    {
     "name": "stdout",
     "output_type": "stream",
     "text": [
      "Predicted probability score: 1.0000\n"
     ]
    }
   ],
   "source": [
    "probability_score = classifier.predict_proba(example_text)\n",
    "print(f'Predicted probability score: {1 - probability_score:.4f}')"
   ]
  },
  {
   "cell_type": "code",
   "execution_count": 28,
   "id": "0fce0a6a-2901-4ff6-bda6-21c792246a8b",
   "metadata": {},
   "outputs": [
    {
     "data": {
      "text/plain": [
       "[0.9247830510139465]"
      ]
     },
     "execution_count": 28,
     "metadata": {},
     "output_type": "execute_result"
    }
   ],
   "source": [
    "sentiment_outputs = sentiment_model(example_text)\n",
    "[output[\"score\"] if output[\"label\"] == \"POSITIVE\" else 1 - output[\"score\"]\n",
    "                   for output in sentiment_outputs]"
   ]
  },
  {
   "cell_type": "markdown",
   "id": "aada680a-41d2-4b9d-b602-8c70bde908e8",
   "metadata": {},
   "source": [
    "## 1: PRO-Brexit, 0: AGAINST-Brexit"
   ]
  },
  {
   "cell_type": "code",
   "execution_count": 29,
   "id": "ad25695e-d9c9-4a1d-aa45-3bad92809905",
   "metadata": {},
   "outputs": [],
   "source": [
    "example_text = \"Brexit is not good for economy\""
   ]
  },
  {
   "cell_type": "code",
   "execution_count": 30,
   "id": "e8de191d-b84c-47e6-896f-d0c7248251d5",
   "metadata": {},
   "outputs": [
    {
     "name": "stdout",
     "output_type": "stream",
     "text": [
      "Predicted probability score: 0.7284\n"
     ]
    }
   ],
   "source": [
    "probability_score = classifier.predict_proba(example_text)\n",
    "print(f'Predicted probability score: {1 - probability_score:.4f}')"
   ]
  },
  {
   "cell_type": "code",
   "execution_count": 31,
   "id": "15cab803-9130-4233-be50-a3832cef2a80",
   "metadata": {},
   "outputs": [
    {
     "data": {
      "text/plain": [
       "[0.03201204538345337]"
      ]
     },
     "execution_count": 31,
     "metadata": {},
     "output_type": "execute_result"
    }
   ],
   "source": [
    "sentiment_outputs = sentiment_model(example_text)\n",
    "[output[\"score\"] if output[\"label\"] == \"POSITIVE\" else 1 - output[\"score\"]\n",
    "                   for output in sentiment_outputs]"
   ]
  },
  {
   "cell_type": "code",
   "execution_count": 32,
   "id": "da6bca38-393f-4694-b282-16e03a8d0c5c",
   "metadata": {},
   "outputs": [],
   "source": [
    "example_text = \"Brexit is not bad for economy\""
   ]
  },
  {
   "cell_type": "code",
   "execution_count": 33,
   "id": "9b524929-79a2-423e-8739-362a7164a1a5",
   "metadata": {},
   "outputs": [
    {
     "name": "stdout",
     "output_type": "stream",
     "text": [
      "Predicted probability score: 0.7284\n"
     ]
    }
   ],
   "source": [
    "probability_score = classifier.predict_proba(example_text)\n",
    "print(f'Predicted probability score: {1 - probability_score:.4f}')"
   ]
  },
  {
   "cell_type": "code",
   "execution_count": 34,
   "id": "c69afbbd-a78e-41ce-90fe-74796bd55490",
   "metadata": {},
   "outputs": [
    {
     "data": {
      "text/plain": [
       "[0.8435317873954773]"
      ]
     },
     "execution_count": 34,
     "metadata": {},
     "output_type": "execute_result"
    }
   ],
   "source": [
    "sentiment_outputs = sentiment_model(example_text)\n",
    "[output[\"score\"] if output[\"label\"] == \"POSITIVE\" else 1 - output[\"score\"]\n",
    "                   for output in sentiment_outputs]"
   ]
  }
 ],
 "metadata": {
  "kernelspec": {
   "display_name": "venv",
   "language": "python",
   "name": "venv"
  },
  "language_info": {
   "codemirror_mode": {
    "name": "ipython",
    "version": 3
   },
   "file_extension": ".py",
   "mimetype": "text/x-python",
   "name": "python",
   "nbconvert_exporter": "python",
   "pygments_lexer": "ipython3",
   "version": "3.10.12"
  }
 },
 "nbformat": 4,
 "nbformat_minor": 5
}
