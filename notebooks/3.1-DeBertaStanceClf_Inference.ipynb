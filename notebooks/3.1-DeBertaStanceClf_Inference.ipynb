{
 "cells": [
  {
   "cell_type": "code",
   "execution_count": 1,
   "id": "674017fa-06b0-42c6-9a31-d63dfa992010",
   "metadata": {},
   "outputs": [],
   "source": [
    "import pathlib\n",
    "basedir = pathlib.Path.cwd().parent\n",
    "deviceId = '0'\n",
    "pathClf = basedir / 'data' / 'processed' / f'calibrated_classifier_{'DEBERTA'}_{'95perc'}.pkl'\n",
    "pathPCA = basedir / 'data' / 'processed' / f'pca_projector_{'DEBERTA'}_{'95perc'}.pkl'\n"
   ]
  },
  {
   "cell_type": "code",
   "execution_count": 12,
   "id": "e93935c8-8da2-49b0-a191-c153de3eadff",
   "metadata": {},
   "outputs": [],
   "source": [
    "import os\n",
    "# Set environment variables\n",
    "os.environ['TOKENIZERS_PARALLELISM'] = 'false'\n",
    "os.environ['CUDA_VISIBLE_DEVICES'] = deviceId\n",
    "os.environ[\"WORLD_SIZE\"] = \"1\"\n",
    "import joblib\n",
    "import torch\n",
    "# from transformers import DistilBertTokenizer, DistilBertModel\n",
    "from transformers import DebertaV2Tokenizer, DebertaV2Model\n",
    "\n",
    "\n",
    "class StanceClassifier:\n",
    "    def __init__(self, pathPCA, pathClf, device):\n",
    "        self.device = device\n",
    "        # Load the text embedder (DistilBERT)\n",
    "        self.tokenizer = DebertaV2Tokenizer.from_pretrained('microsoft/deberta-v2-xlarge')\n",
    "        self.model = DebertaV2Model.from_pretrained('microsoft/deberta-v2-xlarge').to(device)\n",
    "        # Load the trained classifier and PCA projector\n",
    "        self.calibrated_clf = joblib.load(pathClf)\n",
    "        self.pca = joblib.load(pathPCA)\n",
    "\n",
    "    def get_embeddings(self, text):\n",
    "        inputs = self.tokenizer(text, return_tensors='pt', truncation=True, padding=True, max_length=512).to(self.device)\n",
    "        with torch.no_grad():\n",
    "            outputs = self.model(**inputs)\n",
    "        return outputs.last_hidden_state.mean(dim=1).cpu().squeeze().numpy()\n",
    "\n",
    "    def predict_proba(self, text):\n",
    "        # Extract embeddings using DistilBERT\n",
    "        embedding = self.get_embeddings(text).reshape(1, -1)\n",
    "        \n",
    "        # Compress embedding using trained PCA\n",
    "        embedding_pca = self.pca.transform(embedding)\n",
    "        \n",
    "        # Compute probability score using trained calibrated logistic regression\n",
    "        prob_score = self.calibrated_clf.predict_proba(embedding_pca)[:, 1][0]\n",
    "        \n",
    "        return prob_score\n",
    "\n"
   ]
  },
  {
   "cell_type": "code",
   "execution_count": 13,
   "id": "913c4139-c0b8-4864-b19f-9b9e6a314611",
   "metadata": {},
   "outputs": [],
   "source": [
    "# Example usage\n",
    "device = torch.device('cuda' if torch.cuda.is_available() else 'cpu')\n",
    "classifier = StanceClassifier(pathPCA=pathPCA, pathClf=pathClf, device=device)\n"
   ]
  },
  {
   "cell_type": "code",
   "execution_count": 42,
   "id": "4da930b5-6933-4c98-8d1a-8b5cfef795a8",
   "metadata": {},
   "outputs": [
    {
     "name": "stdout",
     "output_type": "stream",
     "text": [
      "Predicted probability score: 0.0267\n"
     ]
    }
   ],
   "source": [
    "example_text = \"Brexit? I support Nigel Farage and UKIP reasons to leave the EU market\"\n",
    "probability_score = classifier.predict_proba(example_text)\n",
    "print(f'Predicted probability score: {probability_score:.4f}')\n",
    "\n"
   ]
  },
  {
   "cell_type": "code",
   "execution_count": 49,
   "id": "46c46802-ff3f-4923-b28a-b79d6cd792c1",
   "metadata": {},
   "outputs": [
    {
     "name": "stdout",
     "output_type": "stream",
     "text": [
      "Predicted probability score: 0.1784\n"
     ]
    }
   ],
   "source": [
    "example_text = \"I will vote for leave but I like Schengen free travel area\"\n",
    "probability_score = classifier.predict_proba(example_text)\n",
    "print(f'Predicted probability score: {probability_score:.4f}')\n",
    "\n"
   ]
  },
  {
   "cell_type": "code",
   "execution_count": 50,
   "id": "313f7929-d483-4530-9c90-3d60aa7c273b",
   "metadata": {},
   "outputs": [
    {
     "name": "stdout",
     "output_type": "stream",
     "text": [
      "Predicted probability score: 0.5708\n"
     ]
    }
   ],
   "source": [
    "example_text = \"I am half between remain and leave\"\n",
    "probability_score = classifier.predict_proba(example_text)\n",
    "print(f'Predicted probability score: {probability_score:.4f}')\n",
    "\n"
   ]
  },
  {
   "cell_type": "code",
   "execution_count": 54,
   "id": "199df855-8224-4fee-bbd9-17eb4dcc8609",
   "metadata": {},
   "outputs": [
    {
     "name": "stdout",
     "output_type": "stream",
     "text": [
      "Predicted probability score: 0.6368\n"
     ]
    }
   ],
   "source": [
    "example_text = \"I strongly support Remain! Brexit will destroy the UK economy\"\n",
    "probability_score = classifier.predict_proba(example_text)\n",
    "print(f'Predicted probability score: {probability_score:.4f}')\n",
    "\n"
   ]
  },
  {
   "cell_type": "code",
   "execution_count": 55,
   "id": "8ee368d6-b960-4e45-8a3c-21b349b3be42",
   "metadata": {},
   "outputs": [
    {
     "name": "stdout",
     "output_type": "stream",
     "text": [
      "Predicted probability score: 0.7305\n"
     ]
    }
   ],
   "source": [
    "example_text = \"I vote Remain because I am an immigrant and I want to feel welcomed.\"\n",
    "probability_score = classifier.predict_proba(example_text)\n",
    "print(f'Predicted probability score: {probability_score:.4f}')\n"
   ]
  },
  {
   "cell_type": "code",
   "execution_count": 56,
   "id": "86e746e7-cb27-4582-9c64-120867704b13",
   "metadata": {},
   "outputs": [
    {
     "name": "stdout",
     "output_type": "stream",
     "text": [
      "Predicted probability score: 0.9913\n"
     ]
    }
   ],
   "source": [
    "example_text = \"I vote Remain because I am an immigrant and I want to feel welcomed. #StrongerIn\"\n",
    "probability_score = classifier.predict_proba(example_text)\n",
    "print(f'Predicted probability score: {probability_score:.4f}')\n"
   ]
  },
  {
   "cell_type": "code",
   "execution_count": null,
   "id": "798a0ec3-595b-4b73-b343-040e521b20a0",
   "metadata": {},
   "outputs": [],
   "source": []
  }
 ],
 "metadata": {
  "kernelspec": {
   "display_name": "Python 3 (ipykernel)",
   "language": "python",
   "name": "python3"
  },
  "language_info": {
   "codemirror_mode": {
    "name": "ipython",
    "version": 3
   },
   "file_extension": ".py",
   "mimetype": "text/x-python",
   "name": "python",
   "nbconvert_exporter": "python",
   "pygments_lexer": "ipython3",
   "version": "3.12.2"
  }
 },
 "nbformat": 4,
 "nbformat_minor": 5
}
