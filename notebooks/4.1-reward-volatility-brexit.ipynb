{
 "cells": [
  {
   "cell_type": "markdown",
   "metadata": {},
   "source": [
    "### Load graph"
   ]
  },
  {
   "cell_type": "code",
   "execution_count": 5,
   "metadata": {},
   "outputs": [],
   "source": [
    "import numpy as np\n",
    "import os, sys\n",
    "sys.path.insert(0, \"../src/\")\n",
    "from data_component import DataComponent\n",
    "import time\n",
    "import matplotlib.pyplot as plt\n",
    "import networkx as nx\n"
   ]
  },
  {
   "cell_type": "code",
   "execution_count": 2,
   "metadata": {},
   "outputs": [],
   "source": [
    "from abc import ABC, abstractmethod\n",
    "import numpy as np\n",
    "\n",
    "\n",
    "class InformationDiffusionComponent(ABC):\n",
    "    @abstractmethod\n",
    "    def propagate_message(self, message, node_id):\n",
    "        raise NotImplementedError()\n",
    "\n",
    "    @abstractmethod\n",
    "    def receive_message(self, message, node_id):\n",
    "        raise NotImplementedError()\n",
    "\n",
    "\n",
    "class BoundedConfidenceDiffusionComponent(InformationDiffusionComponent):\n",
    "    def __init__(self, data_component, epsilon=0.2, mu=0.5, is_multishot=False, epsilon_backfire=np.inf):\n",
    "        \"\"\"epsilon: float : higher epsilon corresponds to higher user bound, hence higher possibility to update opinion in the common direction\n",
    "           epsilon_backfire: float : higher epsilon_backfire corresponds to higher user backfire bound, hence lower possibility to update opinion in the opposite direction\n",
    "        \"\"\"\n",
    "        self.data_component = data_component\n",
    "        self.epsilon = epsilon\n",
    "        self.mu = mu\n",
    "        self.is_multishot = is_multishot\n",
    "        self.epsilon_backfire = epsilon_backfire\n",
    "\n",
    "    def get_opinions(self):\n",
    "        return self.data_component.get_opinions()\n",
    "\n",
    "    def get_opinion_mean(self):\n",
    "        return self.data_component.get_opinion_mean()\n",
    "\n",
    "    def propagate_message(self, message, node_id, susceptible_pool=None):\n",
    "        if susceptible_pool is None:\n",
    "            # initialize a pool of susceptible nodes\n",
    "            susceptible_pool = list(range(self.data_component.get_num_nodes()))\n",
    "            susceptible_pool = set(susceptible_pool)\n",
    "            susceptible_pool.remove(node_id)\n",
    "        # init propagation\n",
    "        opinion_shift_tot = 0\n",
    "        num_activated_users = 0\n",
    "\n",
    "        activated_users = set()\n",
    "        \n",
    "        queue = set(self.data_component.get_neighbors(node_id)).intersection(susceptible_pool)\n",
    "        while len(queue) > 0:\n",
    "            neighbor_id = queue.pop()\n",
    "            # exclude the node from the set of susceptible\n",
    "            susceptible_pool.discard(neighbor_id)\n",
    "            # send the message to the node\n",
    "            activated, opinion_shift = self.receive_message(message, neighbor_id)\n",
    "            # if the node activated on the message, the node will propagate the message to its neighbors\n",
    "            if activated:\n",
    "                activated_users.add(neighbor_id) # DEBUG!!!\n",
    "                # add neighbors of neighbor_id to the queue of users who received the message\n",
    "                queue = queue.union(set(self.data_component.get_neighbors(neighbor_id)).intersection(susceptible_pool))\n",
    "                opinion_shift_tot += opinion_shift\n",
    "                num_activated_users += 1\n",
    "        return opinion_shift_tot, num_activated_users, susceptible_pool, activated_users\n",
    "\n",
    "    def receive_message(self, message, node_id):\n",
    "        \"\"\"Returns a tuple (activated_status: bool, opinion_shift)\n",
    "        \"\"\"\n",
    "        init_opinion = self.data_component.get_opinion(node_id)\n",
    "        disagreement = message - init_opinion\n",
    "        opinion_shift = self.mu * disagreement\n",
    "        if abs(disagreement) < self.epsilon:\n",
    "            init_opinion += opinion_shift\n",
    "            activated_status = True\n",
    "            if self.is_multishot:\n",
    "                self.data_component.update_opinion(node_id, init_opinion)\n",
    "            return activated_status, opinion_shift\n",
    "        elif abs(disagreement) > self.epsilon_backfire:\n",
    "            init_opinion -= opinion_shift\n",
    "            activated_status = True\n",
    "            if self.is_multishot:\n",
    "                self.data_component.update_opinion(node_id, init_opinion)\n",
    "            return activated_status, - opinion_shift\n",
    "        return False, 0"
   ]
  },
  {
   "cell_type": "code",
   "execution_count": 3,
   "metadata": {},
   "outputs": [],
   "source": [
    "def find_uniform_subset(array_of_tuples, num_elements):\n",
    "    \"\"\"array_of_tuples: [(node_id, degree), ..]\n",
    "    Returns a subset of array_of_tuples with num_elements entries\n",
    "    selecting values uniformly between degree range \n",
    "    \"\"\"\n",
    "    \n",
    "    # Extract the degrees\n",
    "    degrees = np.array([degree for node_id, degree in array_of_tuples])\n",
    "\n",
    "    # Step 3: Determine the bins\n",
    "    bins = np.linspace(degrees.min(), degrees.max(), num_elements + 1)\n",
    "\n",
    "    # Step 4: Extract one tuple from each bin\n",
    "    bin_indices = np.digitize(degrees, bins) - 1  # Get the bin index for each degree\n",
    "\n",
    "    uniform_subset = []\n",
    "    used_bins = set()\n",
    "\n",
    "    for index, bin_index in enumerate(bin_indices):\n",
    "        if bin_index not in used_bins:\n",
    "            uniform_subset.append(array_of_tuples[index])\n",
    "            used_bins.add(bin_index)\n",
    "        if len(uniform_subset) == num_elements:\n",
    "            break\n",
    "\n",
    "    return uniform_subset"
   ]
  },
  {
   "cell_type": "code",
   "execution_count": 9,
   "metadata": {},
   "outputs": [
    {
     "name": "stdout",
     "output_type": "stream",
     "text": [
      "Loading follow graph ..\n"
     ]
    },
    {
     "name": "stdout",
     "output_type": "stream",
     "text": [
      "Graph loaded  ✅\n",
      "|V|=7_589 |E|=532_459 node types={'int'}\n",
      "29/30,  estimated time 0.000 min\r"
     ]
    },
    {
     "data": {
      "text/plain": [
       "Text(0.5, 0, 'betweenness')"
      ]
     },
     "execution_count": 9,
     "metadata": {},
     "output_type": "execute_result"
    },
    {
     "data": {
      "image/png": "[encoded data removed]",
      "text/plain": [
       "<Figure size 640x480 with 1 Axes>"
      ]
     },
     "metadata": {},
     "output_type": "display_data"
    }
   ],
   "source": [
    "data = DataComponent(real_data=\"Brexit\")\n",
    "# data = DataComponent(num_nodes=1000, \n",
    "#                      modularity=0.9, homophily=0.9, \n",
    "#                      avg_deg=5, alpha=1., beta=1.)\n",
    "G = data.get_graph()\n",
    "data.pre_compute_neighboring()\n",
    "\n",
    "_sorted_by_degree = sorted(dict(G.out_degree()).items(), key=lambda x: x[1], reverse=True)\n",
    "#_sorted_by_degree = sorted(nx.betweenness_centrality(G).items(), key=lambda x: x[1], reverse=True)\n",
    "_filtered_by_degree = [tup for tup in _sorted_by_degree if tup[1] != 0]\n",
    "sorted_by_degree = find_uniform_subset(_filtered_by_degree, 50)\n",
    "\n",
    "messages_values = np.linspace(0., 1., 10)\n",
    "\n",
    "messege2data = {str(message): {'degrees': [], 'rewards': []} for message in messages_values}\n",
    "\n",
    "for i, (node_id, degree) in enumerate(sorted_by_degree):\n",
    "    time0 = time.time()\n",
    "    for message_value in messages_values:\n",
    "        information_diffusion_model = BoundedConfidenceDiffusionComponent(data_component=data, epsilon=0.2, mu=0.5)\n",
    "        __, num_activated_users, __, __ = information_diffusion_model.propagate_message(message=message_value, node_id=node_id)\n",
    "        messege2data[str(message_value)]['rewards'].append(num_activated_users)\n",
    "        messege2data[str(message_value)]['degrees'].append(degree)\n",
    "    delta_time = time.time() - time0\n",
    "    print(f\"{i}/{len(sorted_by_degree)},  estimated time {delta_time*(len(sorted_by_degree)-i-1)/60:.3f} min\", end=\"\\r\")\n",
    "\n",
    "\n",
    "for message, data in messege2data.items():\n",
    "    plt.scatter(data['degrees'], data['rewards'], label=message)\n",
    "plt.legend(fontsize=9, loc='upper left', title=\"opinions\")\n",
    "plt.ylabel(\"attivi\")\n",
    "plt.xlabel(\"degrees\")\n"
   ]
  },
  {
   "cell_type": "markdown",
   "metadata": {},
   "source": [
    "\n",
    "---"
   ]
  },
  {
   "cell_type": "code",
   "execution_count": 70,
   "metadata": {},
   "outputs": [
    {
     "name": "stdout",
     "output_type": "stream",
     "text": [
      "6103 0.5\n",
      "Loading follow graph ..\n",
      "Graph loaded  ✅\n",
      "|V|=7_589 |E|=532_459 node types={'int'}\n",
      "1530\n"
     ]
    }
   ],
   "source": [
    "message_value = 0.5\n",
    "node_id = 6103\n",
    "print(node_id, message_value)\n",
    "\n",
    "data = DataComponent(real_data=\"Brexit\")\n",
    "G = data.get_graph()\n",
    "data.pre_compute_neighboring()\n",
    "information_diffusion_model = BoundedConfidenceDiffusionComponent(data_component=data, epsilon=0.2, mu=0.5)\n",
    "\n",
    "__, num_activated_users, __, __ = information_diffusion_model.propagate_message(message=message_value, node_id=node_id)\n",
    "print(num_activated_users)"
   ]
  },
  {
   "cell_type": "code",
   "execution_count": 69,
   "metadata": {},
   "outputs": [
    {
     "name": "stdout",
     "output_type": "stream",
     "text": [
      "6866 0.5\n",
      "Loading follow graph ..\n",
      "Graph loaded  ✅\n",
      "|V|=7_589 |E|=532_459 node types={'int'}\n",
      "1531\n"
     ]
    }
   ],
   "source": [
    "node_id = 6866\n",
    "print(node_id, message_value)\n",
    "\n",
    "data = DataComponent(real_data=\"Brexit\")\n",
    "G = data.get_graph()\n",
    "data.pre_compute_neighboring()\n",
    "information_diffusion_model = BoundedConfidenceDiffusionComponent(data_component=data, epsilon=0.2, mu=0.5)\n",
    "\n",
    "__, num_activated_users, __, __ = information_diffusion_model.propagate_message(message=message_value, node_id=node_id)\n",
    "print(num_activated_users)"
   ]
  }
 ],
 "metadata": {
  "kernelspec": {
   "display_name": "sgae",
   "language": "python",
   "name": "python3"
  },
  "language_info": {
   "codemirror_mode": {
    "name": "ipython",
    "version": 3
   },
   "file_extension": ".py",
   "mimetype": "text/x-python",
   "name": "python",
   "nbconvert_exporter": "python",
   "pygments_lexer": "ipython3",
   "version": "undefined.undefined.undefined"
  }
 },
 "nbformat": 4,
 "nbformat_minor": 2
}
