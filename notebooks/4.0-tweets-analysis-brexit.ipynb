{
 "cells": [
  {
   "cell_type": "markdown",
   "metadata": {},
   "source": [
    "# Extracting texts"
   ]
  },
  {
   "cell_type": "code",
   "execution_count": 38,
   "metadata": {},
   "outputs": [
    {
     "data": {
      "text/html": [
       "<div>\n",
       "<style scoped>\n",
       "    .dataframe tbody tr th:only-of-type {\n",
       "        vertical-align: middle;\n",
       "    }\n",
       "\n",
       "    .dataframe tbody tr th {\n",
       "        vertical-align: top;\n",
       "    }\n",
       "\n",
       "    .dataframe thead th {\n",
       "        text-align: right;\n",
       "    }\n",
       "</style>\n",
       "<table border=\"1\" class=\"dataframe\">\n",
       "  <thead>\n",
       "    <tr style=\"text-align: right;\">\n",
       "      <th></th>\n",
       "      <th>author_id_ORIGINAL</th>\n",
       "      <th>id_ORIGINAL</th>\n",
       "      <th>text_ORIGINAL</th>\n",
       "      <th>author_id_RETWEET</th>\n",
       "      <th>id_RETWEET</th>\n",
       "      <th>text_RETWEET</th>\n",
       "    </tr>\n",
       "  </thead>\n",
       "  <tbody>\n",
       "    <tr>\n",
       "      <th>0</th>\n",
       "      <td>201664833</td>\n",
       "      <td>755343961233977344</td>\n",
       "      <td>My 81 year old dad has signed up as a register...</td>\n",
       "      <td>330543773</td>\n",
       "      <td>755439263387443200</td>\n",
       "      <td>RT @mathewhbenham: My 81 year old dad has sign...</td>\n",
       "    </tr>\n",
       "    <tr>\n",
       "      <th>1</th>\n",
       "      <td>201664833</td>\n",
       "      <td>745702715272077312</td>\n",
       "      <td>Beep! Beep! The car is ready for tomorrow. We ...</td>\n",
       "      <td>19081463</td>\n",
       "      <td>745763604851531776</td>\n",
       "      <td>RT @mathewhbenham: Beep! Beep! The car is read...</td>\n",
       "    </tr>\n",
       "    <tr>\n",
       "      <th>2</th>\n",
       "      <td>201664833</td>\n",
       "      <td>745337739126673408</td>\n",
       "      <td>@SadiqKhan has just owned @GiselaStuart big ti...</td>\n",
       "      <td>22186521</td>\n",
       "      <td>745338438250016768</td>\n",
       "      <td>RT @mathewhbenham: @SadiqKhan has just owned @...</td>\n",
       "    </tr>\n",
       "    <tr>\n",
       "      <th>3</th>\n",
       "      <td>201664833</td>\n",
       "      <td>745332404882186240</td>\n",
       "      <td>Great opening speech by @SadiqKhan A #voterema...</td>\n",
       "      <td>265281570</td>\n",
       "      <td>745332908286676992</td>\n",
       "      <td>RT @mathewhbenham: Great opening speech by @Sa...</td>\n",
       "    </tr>\n",
       "    <tr>\n",
       "      <th>4</th>\n",
       "      <td>201664833</td>\n",
       "      <td>744921630967730176</td>\n",
       "      <td>Our cat loves Gourmet Cat Food. #CatsAgainstBr...</td>\n",
       "      <td>340924056</td>\n",
       "      <td>744976903665233920</td>\n",
       "      <td>RT @mathewhbenham: Our cat loves Gourmet Cat F...</td>\n",
       "    </tr>\n",
       "  </tbody>\n",
       "</table>\n",
       "</div>"
      ],
      "text/plain": [
       "  author_id_ORIGINAL         id_ORIGINAL  \\\n",
       "0          201664833  755343961233977344   \n",
       "1          201664833  745702715272077312   \n",
       "2          201664833  745337739126673408   \n",
       "3          201664833  745332404882186240   \n",
       "4          201664833  744921630967730176   \n",
       "\n",
       "                                       text_ORIGINAL author_id_RETWEET  \\\n",
       "0  My 81 year old dad has signed up as a register...         330543773   \n",
       "1  Beep! Beep! The car is ready for tomorrow. We ...          19081463   \n",
       "2  @SadiqKhan has just owned @GiselaStuart big ti...          22186521   \n",
       "3  Great opening speech by @SadiqKhan A #voterema...         265281570   \n",
       "4  Our cat loves Gourmet Cat Food. #CatsAgainstBr...         340924056   \n",
       "\n",
       "           id_RETWEET                                       text_RETWEET  \n",
       "0  755439263387443200  RT @mathewhbenham: My 81 year old dad has sign...  \n",
       "1  745763604851531776  RT @mathewhbenham: Beep! Beep! The car is read...  \n",
       "2  745338438250016768  RT @mathewhbenham: @SadiqKhan has just owned @...  \n",
       "3  745332908286676992  RT @mathewhbenham: Great opening speech by @Sa...  \n",
       "4  744976903665233920  RT @mathewhbenham: Our cat loves Gourmet Cat F...  "
      ]
     },
     "metadata": {},
     "output_type": "display_data"
    }
   ],
   "source": [
    "import pandas as pd\n",
    "\n",
    "file_path = \"/mnt/nas/cinus/SocialAIGym/data/raw/Brexit/processed_tweet_and_retweet_data.pkl\"\n",
    "columns_to_select = [\n",
    "    'author_id_ORIGINAL', 'id_ORIGINAL', 'text_ORIGINAL',\n",
    "    'author_id_RETWEET', 'id_RETWEET', 'text_RETWEET'\n",
    "]\n",
    "\n",
    "def load_selected_columns(file_path, columns):\n",
    "    # Read the entire dataframe first\n",
    "    df = pd.read_pickle(file_path)\n",
    "    # Select the specified columns and ensure all are strings\n",
    "    df_selected = df[columns].astype(str)\n",
    "    return df_selected\n",
    "\n",
    "df_selected = load_selected_columns(file_path, columns_to_select)\n",
    "df_selected = df_selected.reset_index()\n",
    "\n",
    "display(df_selected.head())\n"
   ]
  },
  {
   "cell_type": "code",
   "execution_count": 49,
   "metadata": {},
   "outputs": [
    {
     "name": "stdout",
     "output_type": "stream",
     "text": [
      "Available texts: 19_960 / 19_960\n"
     ]
    }
   ],
   "source": [
    "import pickle\n",
    "\n",
    "with open(\"/mnt/nas/cinus/SocialAIGym/data/raw/Brexit/brexit_07_tweets_ids.pkl\", \"rb\") as file_handle:\n",
    "    tweet_ids = pickle.load(file_handle)\n",
    "\n",
    "print(f\"Available texts: {len(set(tweet_ids)) - len(set(tweet_ids).difference(set(df_selected['id_ORIGINAL'].unique()))):_} / {len(set(tweet_ids)):_}\")"
   ]
  },
  {
   "cell_type": "code",
   "execution_count": 52,
   "metadata": {},
   "outputs": [
    {
     "name": "stdout",
     "output_type": "stream",
     "text": [
      "Available propagations: 19_960\n"
     ]
    }
   ],
   "source": [
    "import pickle\n",
    "\n",
    "with open(\"/mnt/nas/cinus/SocialAIGym/data/raw/Brexit/brexit_07_propagations_and_polarities.pkl\", \"rb\") as file_handle:\n",
    "    propagations, polarities = pickle.load(file_handle) # propagations are ordered by time (first active --> last active)\n",
    "\n",
    "print(f\"Available propagations: {len(propagations):_}\")"
   ]
  },
  {
   "cell_type": "markdown",
   "metadata": {},
   "source": [
    "-------"
   ]
  },
  {
   "cell_type": "markdown",
   "metadata": {},
   "source": [
    "# Check stance semantic\n",
    "\n",
    "Look at manual annotation file: -1 remain, +1 leave"
   ]
  }
 ],
 "metadata": {
  "kernelspec": {
   "display_name": "sgae",
   "language": "python",
   "name": "python3"
  },
  "language_info": {
   "codemirror_mode": {
    "name": "ipython",
    "version": 3
   },
   "file_extension": ".py",
   "mimetype": "text/x-python",
   "name": "python",
   "nbconvert_exporter": "python",
   "pygments_lexer": "ipython3",
   "version": "undefined.undefined.undefined"
  }
 },
 "nbformat": 4,
 "nbformat_minor": 2
}
