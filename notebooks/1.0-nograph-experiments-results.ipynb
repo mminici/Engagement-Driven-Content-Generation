{
 "cells": [
  {
   "cell_type": "code",
   "execution_count": 1,
   "outputs": [],
   "source": [
    "import pathlib\n",
    "import pickle\n",
    "import numpy as np"
   ],
   "metadata": {
    "collapsed": false,
    "pycharm": {
     "name": "#%%\n"
    }
   }
  },
  {
   "cell_type": "code",
   "execution_count": 3,
   "outputs": [],
   "source": [
    "base_dir = pathlib.Path.cwd().parent\n",
    "data_dir = base_dir / 'data' / 'output'\n"
   ],
   "metadata": {
    "collapsed": false,
    "pycharm": {
     "name": "#%%\n"
    }
   }
  },
  {
   "cell_type": "code",
   "execution_count": 19,
   "outputs": [],
   "source": [
    "homophily_val = 0.8\n",
    "modularity_val = 0.8\n",
    "centrality_val_list = [0,1,-1,-2]\n",
    "results_summary = []\n",
    "results_max_reward_list = []\n",
    "results_max_reward_response_list = []\n",
    "for centrality_val in centrality_val_list:\n",
    "    # read results\n",
    "    path_to_data = data_dir / f'no_graph_results_MOD{modularity_val}_HOM{homophily_val}_CEN{centrality_val}.pkl'\n",
    "    if path_to_data.exists():\n",
    "        with open(path_to_data, 'rb') as file:\n",
    "            results = pickle.load(file)\n",
    "    results = list(results.values())[0]\n",
    "    results_summary.append(results)\n",
    "    best_index = results['rewards (after)'].argmax()\n",
    "    results_max_reward_list.append(results.loc[best_index]['rewards (after)'].item())\n",
    "    results_max_reward_response_list.append(results.loc[best_index]['response (after)'])\n"
   ],
   "metadata": {
    "collapsed": false,
    "pycharm": {
     "name": "#%%\n"
    }
   }
  },
  {
   "cell_type": "code",
   "execution_count": 22,
   "outputs": [
    {
     "ename": "ModuleNotFoundError",
     "evalue": "No module named 'matplotlib'",
     "output_type": "error",
     "traceback": [
      "\u001B[0;31m---------------------------------------------------------------------------\u001B[0m",
      "\u001B[0;31mModuleNotFoundError\u001B[0m                       Traceback (most recent call last)",
      "Cell \u001B[0;32mIn[22], line 1\u001B[0m\n\u001B[0;32m----> 1\u001B[0m \u001B[38;5;28;01mimport\u001B[39;00m \u001B[38;5;21;01mmatplotlib\u001B[39;00m\u001B[38;5;21;01m.\u001B[39;00m\u001B[38;5;21;01mpyplot\u001B[39;00m \u001B[38;5;28;01mas\u001B[39;00m \u001B[38;5;21;01mplt\u001B[39;00m\n",
      "\u001B[0;31mModuleNotFoundError\u001B[0m: No module named 'matplotlib'"
     ]
    }
   ],
   "source": [
    "import matplotlib.pyplot as plt\n"
   ],
   "metadata": {
    "collapsed": false,
    "pycharm": {
     "name": "#%%\n"
    }
   }
  },
  {
   "cell_type": "code",
   "execution_count": 20,
   "outputs": [
    {
     "data": {
      "text/plain": "[24, 24, 94, 99]"
     },
     "execution_count": 20,
     "metadata": {},
     "output_type": "execute_result"
    }
   ],
   "source": [
    "results_max_reward_list"
   ],
   "metadata": {
    "collapsed": false,
    "pycharm": {
     "name": "#%%\n"
    }
   }
  },
  {
   "cell_type": "code",
   "execution_count": 21,
   "outputs": [
    {
     "data": {
      "text/plain": "['<s> Question: Generate a post about cats.\\n\\nAnswer: \\n</s>',\n '<s> Question: Generate a post about cats.\\n\\nAnswer: \\n</s>',\n 'Cats are one of the most popular pets in the world, known for their playful, mischievous personalities and their ability to capture the hearts of their human family members. But did you know that these furry friends are extra than just cute ball of fluff? Cats are one of the most fascinating creatures in the animal kingdom, with their ability to adapted, adaptability, and intelligence.\\n first, cats',\n \"Cats are the furry friends that brighten up our lives with their adorable a looking eyes and playful personalities. whether it's an easy or a date, cats always millelaxing and cute. Sheldon when it comes to th r sieben, cats are top not quality cutors for kids. Tips for caring for cats. life with justicwho expert, the v, itches help psteat,\"]"
     },
     "execution_count": 21,
     "metadata": {},
     "output_type": "execute_result"
    }
   ],
   "source": [
    "results_max_reward_response_list"
   ],
   "metadata": {
    "collapsed": false,
    "pycharm": {
     "name": "#%%\n"
    }
   }
  },
  {
   "cell_type": "code",
   "execution_count": null,
   "outputs": [],
   "source": [],
   "metadata": {
    "collapsed": false,
    "pycharm": {
     "name": "#%%\n"
    }
   }
  }
 ],
 "metadata": {
  "kernelspec": {
   "display_name": "Python 3",
   "language": "python",
   "name": "python3"
  },
  "language_info": {
   "codemirror_mode": {
    "name": "ipython",
    "version": 2
   },
   "file_extension": ".py",
   "mimetype": "text/x-python",
   "name": "python",
   "nbconvert_exporter": "python",
   "pygments_lexer": "ipython2",
   "version": "2.7.6"
  }
 },
 "nbformat": 4,
 "nbformat_minor": 0
}